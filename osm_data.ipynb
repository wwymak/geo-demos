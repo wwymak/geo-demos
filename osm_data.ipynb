{
 "cells": [
  {
   "cell_type": "markdown",
   "id": "96b3ba25-3096-4e14-a9b8-dbc4d8b3c163",
   "metadata": {},
   "source": [
    "# Points of interest\n",
    "\n",
    "Open Street Maps is a great source of data for geo analytics, giving features such as amenties, transport locations and land use. In this notebook, we demonstrate how to use the overpass, nominatim apis to fetch information about supermarkets and a few other relevant POIs in london. \n",
    "\n",
    "As a toy problem, if you are in charge of finding new locations to open a waitrose supermarket, how would you go about it?\n",
    "- we have information on demographics from the previous notebook on census2021\n",
    "- we have a raster grid of 100m x 100m for london from the previous notebook\n",
    "- we know where the current waitrose supermarkets are\n",
    "- we can find out where our competitiors are\n",
    "- we can find out where the transport stops are\n",
    "\n",
    "We can start off with some simple rules to generate a score\n",
    "- we can find out which locations are close to e.g. bus stop/tube stop (likely to have more business if people can reach it more easily)\n",
    "- it would be desirable not to be too close to another waitrose or another supermarket (debatable, since there are times where opening next to similar shops do have advantages, but let's keep it simple)\n",
    "- we would want to open where people are reasonably well off (waitrose is a premium supermarket after all...)\n",
    "- we want to open somewhere there are a lot of people\n",
    "\n",
    "I"
   ]
  },
  {
   "cell_type": "code",
   "execution_count": 1,
   "id": "9c9fe15a-69ca-4c7f-bdc1-9bc0e76927e8",
   "metadata": {},
   "outputs": [],
   "source": [
    "from OSMPythonTools.overpass import Overpass,overpassQueryBuilder\n",
    "from OSMPythonTools.api import Api"
   ]
  },
  {
   "cell_type": "markdown",
   "id": "cb4591bd-7faa-4737-89d1-596c0d22281c",
   "metadata": {},
   "source": [
    "###  Query the nominatim API\n",
    "\n",
    "We need to get the correct id for London to use for overpass queries. The nomainatim API provides this, as well as other info such as lat/lng, bounding box and so on. However, you do want to inspect the returned results manually if possible since there can be ambiguity around place names and the first result is not always what you want. "
   ]
  },
  {
   "cell_type": "code",
   "execution_count": 2,
   "id": "23aa20e9-d54d-463c-b941-6ec655478e64",
   "metadata": {},
   "outputs": [
    {
     "name": "stdout",
     "output_type": "stream",
     "text": [
      "3600065606\n"
     ]
    }
   ],
   "source": [
    "from OSMPythonTools.nominatim import Nominatim\n",
    "import pandas as pd\n",
    "nominatim = Nominatim()\n",
    "area_id = nominatim.query('London, UK').areaId()\n",
    "print(area_id)"
   ]
  },
  {
   "cell_type": "code",
   "execution_count": 3,
   "id": "fd52cd79-2a87-49b4-a344-ff28139dafbc",
   "metadata": {},
   "outputs": [
    {
     "data": {
      "text/plain": [
       "[{'place_id': 344385499,\n",
       "  'licence': 'Data © OpenStreetMap contributors, ODbL 1.0. https://osm.org/copyright',\n",
       "  'osm_type': 'relation',\n",
       "  'osm_id': 65606,\n",
       "  'boundingbox': ['51.2867601', '51.6918741', '-0.5103751', '0.3340155'],\n",
       "  'lat': '51.5073219',\n",
       "  'lon': '-0.1276474',\n",
       "  'display_name': 'London, Greater London, England, United Kingdom',\n",
       "  'class': 'place',\n",
       "  'type': 'city',\n",
       "  'importance': 0.9407827616237295,\n",
       "  'icon': 'https://nominatim.openstreetmap.org/ui/mapicons/poi_place_city.p.20.png'},\n",
       " {'place_id': 297653298,\n",
       "  'licence': 'Data © OpenStreetMap contributors, ODbL 1.0. https://osm.org/copyright',\n",
       "  'osm_type': 'relation',\n",
       "  'osm_id': 51800,\n",
       "  'boundingbox': ['51.5068696', '51.5233122', '-0.1138295', '-0.072747'],\n",
       "  'lat': '51.5156177',\n",
       "  'lon': '-0.0919983',\n",
       "  'display_name': 'City of London, Greater London, England, United Kingdom',\n",
       "  'class': 'boundary',\n",
       "  'type': 'administrative',\n",
       "  'importance': 0.6865111547516773,\n",
       "  'icon': 'https://nominatim.openstreetmap.org/ui/mapicons/poi_boundary_administrative.p.20.png'},\n",
       " {'place_id': 100089884,\n",
       "  'licence': 'Data © OpenStreetMap contributors, ODbL 1.0. https://osm.org/copyright',\n",
       "  'osm_type': 'way',\n",
       "  'osm_id': 4372002,\n",
       "  'boundingbox': ['51.5082611', '51.5095106', '-0.1301357', '-0.1273245'],\n",
       "  'lat': '51.50888405',\n",
       "  'lon': '-0.1283741501862351',\n",
       "  'display_name': 'National Gallery, Pall Mall East, Seven Dials, Covent Garden, London, Greater London, England, WC2N 5DN, United Kingdom',\n",
       "  'class': 'tourism',\n",
       "  'type': 'gallery',\n",
       "  'importance': 0.6736382548891894}]"
      ]
     },
     "execution_count": 3,
     "metadata": {},
     "output_type": "execute_result"
    }
   ],
   "source": [
    "\n",
    "nominatim.query('London, UK').toJSON()[:3]"
   ]
  },
  {
   "cell_type": "markdown",
   "id": "41333029-5203-487a-96fb-2ea2f5fba332",
   "metadata": {},
   "source": [
    "Using the areaid, we can now use overpass to query for the relevant data"
   ]
  },
  {
   "cell_type": "code",
   "execution_count": 4,
   "id": "1d6a05ec-8f85-4cdf-aba4-efa393e8c27d",
   "metadata": {},
   "outputs": [],
   "source": [
    "overpass = Overpass()\n",
    "query = overpassQueryBuilder(area=area_id, elementType='nwr', selector='\"shop\"=\"supermarket\"', out='center')\n",
    "supermarkets= overpass.query(query)"
   ]
  },
  {
   "cell_type": "markdown",
   "id": "326fa53f-cd16-4718-8e41-da05a797545c",
   "metadata": {},
   "source": [
    "Note there are two types of entries that can be returned-- nodes, which have a lat/lng keys, and ways, which have a 'center' key, corresponding to a dict with lat/lng value of the center of the way. \n",
    "\n",
    "For example\n",
    "\n",
    "Node:\n",
    "```python\n",
    "{'type': 'node',\n",
    " 'id': 25744394,\n",
    " 'lat': 51.5620778,\n",
    " 'lon': -0.1493587,\n",
    " 'tags': {'brand': 'Tesco Express',\n",
    "  'brand:wikidata': 'Q98456772',\n",
    "  'brand:wikipedia': 'en:Tesco',\n",
    "  'contact:website': 'https://www.tesco.com/store-locator/london/23-25-swains-ln',\n",
    "  'name': 'Tesco Express',\n",
    "  'shop': 'supermarket',\n",
    "  'wheelchair': 'limited'}}\n",
    "\n",
    "```\n",
    "\n",
    "Way:\n",
    "```python\n",
    "{'type': 'way',\n",
    "  'id': 137459762,\n",
    "  'center': {'lat': 51.4642954, 'lon': 0.1074691},\n",
    "  'nodes': [1507739897,\n",
    "   1507739898,\n",
    "   1507739899,\n",
    "   1507739900,\n",
    "   1507739901,\n",
    "   1507739902,\n",
    "   1507739897],\n",
    "  'tags': {'addr:country': 'GB',\n",
    "   'addr:housenumber': '46-60',\n",
    "   'addr:postcode': 'DA16 3HF',\n",
    "   'addr:street': 'Upper Wickham Lane',\n",
    "   'brand': 'Lidl',\n",
    "   'brand:wikidata': 'Q151954',\n",
    "   'brand:wikipedia': 'en:Lidl',\n",
    "   'building': 'yes',\n",
    "   'designation': 'Welling',\n",
    "   'fhrs:id': '1009721',\n",
    "   'name': 'Lidl',\n",
    "   'operator': 'Lidl',\n",
    "   'shop': 'supermarket',\n",
    "   'source': 'Bing'}}\n",
    "```"
   ]
  },
  {
   "cell_type": "markdown",
   "id": "764e325c-db35-4b74-bbcc-08d7e04143ed",
   "metadata": {},
   "source": [
    "**extracting information from the returned results**"
   ]
  },
  {
   "cell_type": "code",
   "execution_count": 5,
   "id": "0b0ca4c5-44e5-459f-afdf-c1a3eaeeade0",
   "metadata": {},
   "outputs": [
    {
     "data": {
      "text/plain": [
       "{'type': 'node',\n",
       " 'id': 25744394,\n",
       " 'lat': 51.5620778,\n",
       " 'lon': -0.1493587,\n",
       " 'tags': {'brand': 'Tesco Express',\n",
       "  'brand:wikidata': 'Q98456772',\n",
       "  'brand:wikipedia': 'en:Tesco',\n",
       "  'contact:website': 'https://www.tesco.com/store-locator/london/23-25-swains-ln',\n",
       "  'name': 'Tesco Express',\n",
       "  'shop': 'supermarket',\n",
       "  'wheelchair': 'limited'}}"
      ]
     },
     "execution_count": 5,
     "metadata": {},
     "output_type": "execute_result"
    }
   ],
   "source": [
    "# calling on the `elements()` method like so gives you entries in the form of json\n",
    "supermarkets.elements()[0]._json"
   ]
  },
  {
   "cell_type": "code",
   "execution_count": 14,
   "id": "b8ab62c8-15c4-4002-9f22-208e5ed18a6b",
   "metadata": {},
   "outputs": [],
   "source": [
    "supermarkets_df = []\n",
    "for x in  supermarkets.elements():\n",
    "    entry = x._json\n",
    "    if entry['type'] == 'way':\n",
    "        supermarkets_df.append(dict(\n",
    "            id = entry['id'],\n",
    "            lat=entry.get('center', {}).get('lat'), \n",
    "            lng = entry.get('center', {}).get('lon'), \n",
    "            brand=entry.get('tags', {}).get('brand:wikipedia'), \n",
    "            name=entry.get('tags', {}).get('name')\n",
    "        ))\n",
    "    elif entry['type'] == 'node':\n",
    "        supermarkets_df.append(dict(\n",
    "            id = entry['id'],\n",
    "            lat=entry.get('lat'), \n",
    "            lng = entry.get('lon'), \n",
    "            brand=entry.get('tags', {}).get('brand:wikipedia'), \n",
    "            name=entry.get('tags', {}).get('name')\n",
    "        ))\n",
    "supermarkets_df = pd.DataFrame(supermarkets_df)\n"
   ]
  },
  {
   "cell_type": "code",
   "execution_count": 15,
   "id": "4768cb12-e5a9-4cfb-9433-1a11085c7f70",
   "metadata": {},
   "outputs": [
    {
     "data": {
      "text/html": [
       "<div>\n",
       "<style scoped>\n",
       "    .dataframe tbody tr th:only-of-type {\n",
       "        vertical-align: middle;\n",
       "    }\n",
       "\n",
       "    .dataframe tbody tr th {\n",
       "        vertical-align: top;\n",
       "    }\n",
       "\n",
       "    .dataframe thead th {\n",
       "        text-align: right;\n",
       "    }\n",
       "</style>\n",
       "<table border=\"1\" class=\"dataframe\">\n",
       "  <thead>\n",
       "    <tr style=\"text-align: right;\">\n",
       "      <th></th>\n",
       "      <th>id</th>\n",
       "      <th>lat</th>\n",
       "      <th>lng</th>\n",
       "      <th>brand</th>\n",
       "      <th>name</th>\n",
       "    </tr>\n",
       "  </thead>\n",
       "  <tbody>\n",
       "    <tr>\n",
       "      <th>350</th>\n",
       "      <td>5842529172</td>\n",
       "      <td>51.426015</td>\n",
       "      <td>-0.051829</td>\n",
       "      <td>None</td>\n",
       "      <td>PFC</td>\n",
       "    </tr>\n",
       "    <tr>\n",
       "      <th>467</th>\n",
       "      <td>8252199923</td>\n",
       "      <td>51.469922</td>\n",
       "      <td>-0.358027</td>\n",
       "      <td>None</td>\n",
       "      <td>Safa &amp; Marna Supermarket</td>\n",
       "    </tr>\n",
       "    <tr>\n",
       "      <th>1010</th>\n",
       "      <td>444642774</td>\n",
       "      <td>51.574904</td>\n",
       "      <td>-0.012929</td>\n",
       "      <td>None</td>\n",
       "      <td>Iceland</td>\n",
       "    </tr>\n",
       "    <tr>\n",
       "      <th>1035</th>\n",
       "      <td>527096586</td>\n",
       "      <td>51.368451</td>\n",
       "      <td>-0.196835</td>\n",
       "      <td>en:Sainsbury's</td>\n",
       "      <td>Sainsbury's</td>\n",
       "    </tr>\n",
       "    <tr>\n",
       "      <th>413</th>\n",
       "      <td>6798574590</td>\n",
       "      <td>51.550019</td>\n",
       "      <td>-0.191182</td>\n",
       "      <td>None</td>\n",
       "      <td>Sainsbury's Local</td>\n",
       "    </tr>\n",
       "    <tr>\n",
       "      <th>355</th>\n",
       "      <td>5892620652</td>\n",
       "      <td>51.408780</td>\n",
       "      <td>-0.105924</td>\n",
       "      <td>None</td>\n",
       "      <td>The Co-operative Food</td>\n",
       "    </tr>\n",
       "    <tr>\n",
       "      <th>801</th>\n",
       "      <td>166129315</td>\n",
       "      <td>51.607240</td>\n",
       "      <td>-0.209046</td>\n",
       "      <td>en:Waitrose &amp; Partners</td>\n",
       "      <td>Waitrose</td>\n",
       "    </tr>\n",
       "    <tr>\n",
       "      <th>791</th>\n",
       "      <td>158514106</td>\n",
       "      <td>51.461533</td>\n",
       "      <td>-0.301876</td>\n",
       "      <td>en:Waitrose &amp; Partners</td>\n",
       "      <td>Waitrose</td>\n",
       "    </tr>\n",
       "    <tr>\n",
       "      <th>32</th>\n",
       "      <td>313617786</td>\n",
       "      <td>51.493274</td>\n",
       "      <td>-0.239557</td>\n",
       "      <td>None</td>\n",
       "      <td>Thai Smile</td>\n",
       "    </tr>\n",
       "    <tr>\n",
       "      <th>87</th>\n",
       "      <td>677228899</td>\n",
       "      <td>51.563595</td>\n",
       "      <td>-0.355175</td>\n",
       "      <td>None</td>\n",
       "      <td>Iceland</td>\n",
       "    </tr>\n",
       "  </tbody>\n",
       "</table>\n",
       "</div>"
      ],
      "text/plain": [
       "              id        lat       lng                   brand  \\\n",
       "350   5842529172  51.426015 -0.051829                    None   \n",
       "467   8252199923  51.469922 -0.358027                    None   \n",
       "1010   444642774  51.574904 -0.012929                    None   \n",
       "1035   527096586  51.368451 -0.196835          en:Sainsbury's   \n",
       "413   6798574590  51.550019 -0.191182                    None   \n",
       "355   5892620652  51.408780 -0.105924                    None   \n",
       "801    166129315  51.607240 -0.209046  en:Waitrose & Partners   \n",
       "791    158514106  51.461533 -0.301876  en:Waitrose & Partners   \n",
       "32     313617786  51.493274 -0.239557                    None   \n",
       "87     677228899  51.563595 -0.355175                    None   \n",
       "\n",
       "                          name  \n",
       "350                        PFC  \n",
       "467   Safa & Marna Supermarket  \n",
       "1010                   Iceland  \n",
       "1035               Sainsbury's  \n",
       "413          Sainsbury's Local  \n",
       "355      The Co-operative Food  \n",
       "801                   Waitrose  \n",
       "791                   Waitrose  \n",
       "32                  Thai Smile  \n",
       "87                     Iceland  "
      ]
     },
     "execution_count": 15,
     "metadata": {},
     "output_type": "execute_result"
    }
   ],
   "source": [
    "supermarkets_df.sample(frac=1.).head(10)"
   ]
  },
  {
   "cell_type": "code",
   "execution_count": 18,
   "id": "47cbd351-f467-4851-aa8d-b65099b5a6aa",
   "metadata": {},
   "outputs": [
    {
     "data": {
      "text/plain": [
       "Lidl             108\n",
       "Sainsbury's       97\n",
       "Co-op Food        66\n",
       "Waitrose          59\n",
       "Tesco Express     45\n",
       "Asda              37\n",
       "Tesco             35\n",
       "ALDI              34\n",
       "Morrisons         28\n",
       "Co-op             24\n",
       "Name: name, dtype: int64"
      ]
     },
     "execution_count": 18,
     "metadata": {},
     "output_type": "execute_result"
    }
   ],
   "source": [
    "supermarkets_df.name.value_counts().head(10)"
   ]
  },
  {
   "cell_type": "code",
   "execution_count": null,
   "id": "9fe30693-234e-4a42-95f5-764651e6d1d4",
   "metadata": {},
   "outputs": [],
   "source": []
  }
 ],
 "metadata": {
  "kernelspec": {
   "display_name": "Python [conda env:geo]",
   "language": "python",
   "name": "conda-env-geo-py"
  },
  "language_info": {
   "codemirror_mode": {
    "name": "ipython",
    "version": 3
   },
   "file_extension": ".py",
   "mimetype": "text/x-python",
   "name": "python",
   "nbconvert_exporter": "python",
   "pygments_lexer": "ipython3",
   "version": "3.10.8"
  },
  "widgets": {
   "application/vnd.jupyter.widget-state+json": {
    "state": {},
    "version_major": 2,
    "version_minor": 0
   }
  }
 },
 "nbformat": 4,
 "nbformat_minor": 5
}

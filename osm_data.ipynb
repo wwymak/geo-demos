{
 "cells": [
  {
   "cell_type": "markdown",
   "id": "96b3ba25-3096-4e14-a9b8-dbc4d8b3c163",
   "metadata": {},
   "source": [
    "# Points of interest\n",
    "\n",
    "Open Street Maps is a great source of data for geo analytics, giving features such as amenties, transport locations and land use. In this notebook, we demonstrate how to use the overpass, nominatim apis to fetch information about supermarkets in london. Sa"
   ]
  },
  {
   "cell_type": "code",
   "execution_count": 1,
   "id": "9c9fe15a-69ca-4c7f-bdc1-9bc0e76927e8",
   "metadata": {},
   "outputs": [],
   "source": [
    "from OSMPythonTools.overpass import Overpass,overpassQueryBuilder\n",
    "from OSMPythonTools.api import Api"
   ]
  },
  {
   "cell_type": "markdown",
   "id": "cb4591bd-7faa-4737-89d1-596c0d22281c",
   "metadata": {},
   "source": [
    "###  Query the nominatim API\n",
    "\n",
    "We need to get the correct id for London to use for overpass queries. it also quite usefully return other info such as lat/lng, bounding box and so on"
   ]
  },
  {
   "cell_type": "code",
   "execution_count": 2,
   "id": "23aa20e9-d54d-463c-b941-6ec655478e64",
   "metadata": {},
   "outputs": [
    {
     "name": "stdout",
     "output_type": "stream",
     "text": [
      "3600065606\n"
     ]
    }
   ],
   "source": [
    "from OSMPythonTools.nominatim import Nominatim\n",
    "import pandas as pd\n",
    "nominatim = Nominatim()\n",
    "area_id = nominatim.query('London, UK').areaId()\n",
    "print(area_id)"
   ]
  },
  {
   "cell_type": "code",
   "execution_count": 3,
   "id": "fd52cd79-2a87-49b4-a344-ff28139dafbc",
   "metadata": {},
   "outputs": [
    {
     "data": {
      "text/plain": [
       "[{'place_id': 344385499,\n",
       "  'licence': 'Data © OpenStreetMap contributors, ODbL 1.0. https://osm.org/copyright',\n",
       "  'osm_type': 'relation',\n",
       "  'osm_id': 65606,\n",
       "  'boundingbox': ['51.2867601', '51.6918741', '-0.5103751', '0.3340155'],\n",
       "  'lat': '51.5073219',\n",
       "  'lon': '-0.1276474',\n",
       "  'display_name': 'London, Greater London, England, United Kingdom',\n",
       "  'class': 'place',\n",
       "  'type': 'city',\n",
       "  'importance': 0.9407827616237295,\n",
       "  'icon': 'https://nominatim.openstreetmap.org/ui/mapicons/poi_place_city.p.20.png'},\n",
       " {'place_id': 297653298,\n",
       "  'licence': 'Data © OpenStreetMap contributors, ODbL 1.0. https://osm.org/copyright',\n",
       "  'osm_type': 'relation',\n",
       "  'osm_id': 51800,\n",
       "  'boundingbox': ['51.5068696', '51.5233122', '-0.1138295', '-0.072747'],\n",
       "  'lat': '51.5156177',\n",
       "  'lon': '-0.0919983',\n",
       "  'display_name': 'City of London, Greater London, England, United Kingdom',\n",
       "  'class': 'boundary',\n",
       "  'type': 'administrative',\n",
       "  'importance': 0.6865111547516773,\n",
       "  'icon': 'https://nominatim.openstreetmap.org/ui/mapicons/poi_boundary_administrative.p.20.png'},\n",
       " {'place_id': 100089884,\n",
       "  'licence': 'Data © OpenStreetMap contributors, ODbL 1.0. https://osm.org/copyright',\n",
       "  'osm_type': 'way',\n",
       "  'osm_id': 4372002,\n",
       "  'boundingbox': ['51.5082611', '51.5095106', '-0.1301357', '-0.1273245'],\n",
       "  'lat': '51.50888405',\n",
       "  'lon': '-0.1283741501862351',\n",
       "  'display_name': 'National Gallery, Pall Mall East, Seven Dials, Covent Garden, London, Greater London, England, WC2N 5DN, United Kingdom',\n",
       "  'class': 'tourism',\n",
       "  'type': 'gallery',\n",
       "  'importance': 0.6736382548891894}]"
      ]
     },
     "execution_count": 3,
     "metadata": {},
     "output_type": "execute_result"
    }
   ],
   "source": [
    "\n",
    "nominatim.query('London, UK').toJSON()[:3]"
   ]
  },
  {
   "cell_type": "code",
   "execution_count": 4,
   "id": "0d1a0aeb-401c-401e-b8ca-4657435c7966",
   "metadata": {},
   "outputs": [
    {
     "data": {
      "text/plain": [
       "<bound method CacheObject.query of <OSMPythonTools.nominatim.Nominatim object at 0x7fde166f9840>>"
      ]
     },
     "execution_count": 4,
     "metadata": {},
     "output_type": "execute_result"
    }
   ],
   "source": [
    "nominatim.query"
   ]
  },
  {
   "cell_type": "code",
   "execution_count": 5,
   "id": "1d6a05ec-8f85-4cdf-aba4-efa393e8c27d",
   "metadata": {},
   "outputs": [
    {
     "ename": "NameError",
     "evalue": "name 'areaId' is not defined",
     "output_type": "error",
     "traceback": [
      "\u001b[0;31m---------------------------------------------------------------------------\u001b[0m",
      "\u001b[0;31mNameError\u001b[0m                                 Traceback (most recent call last)",
      "Cell \u001b[0;32mIn[5], line 2\u001b[0m\n\u001b[1;32m      1\u001b[0m overpass \u001b[38;5;241m=\u001b[39m Overpass()\n\u001b[0;32m----> 2\u001b[0m query \u001b[38;5;241m=\u001b[39m overpassQueryBuilder(area\u001b[38;5;241m=\u001b[39m\u001b[43mareaId\u001b[49m, elementType\u001b[38;5;241m=\u001b[39m\u001b[38;5;124m'\u001b[39m\u001b[38;5;124mnwr\u001b[39m\u001b[38;5;124m'\u001b[39m, selector\u001b[38;5;241m=\u001b[39m\u001b[38;5;124m'\u001b[39m\u001b[38;5;124m\"\u001b[39m\u001b[38;5;124mshop\u001b[39m\u001b[38;5;124m\"\u001b[39m\u001b[38;5;124m=\u001b[39m\u001b[38;5;124m\"\u001b[39m\u001b[38;5;124msupermarket\u001b[39m\u001b[38;5;124m\"\u001b[39m\u001b[38;5;124m'\u001b[39m, out\u001b[38;5;241m=\u001b[39m\u001b[38;5;124m'\u001b[39m\u001b[38;5;124mcenter\u001b[39m\u001b[38;5;124m'\u001b[39m)\n\u001b[1;32m      3\u001b[0m supermarkets\u001b[38;5;241m=\u001b[39m overpass\u001b[38;5;241m.\u001b[39mquery(query)\n",
      "\u001b[0;31mNameError\u001b[0m: name 'areaId' is not defined"
     ]
    }
   ],
   "source": [
    "overpass = Overpass()\n",
    "query = overpassQueryBuilder(area=areaId, elementType='nwr', selector='\"shop\"=\"supermarket\"', out='center')\n",
    "supermarkets= overpass.query(query)"
   ]
  },
  {
   "cell_type": "code",
   "execution_count": null,
   "id": "0b0ca4c5-44e5-459f-afdf-c1a3eaeeade0",
   "metadata": {},
   "outputs": [],
   "source": [
    "supermarkets.elements()[0]._json"
   ]
  },
  {
   "cell_type": "code",
   "execution_count": null,
   "id": "b00342fe-d4ca-4fc3-8220-281c4f735473",
   "metadata": {},
   "outputs": [],
   "source": [
    "supermarkets = pd.DataFrame([dict(lat=x['lat'], lng = x['lng'], brand=x.get('tags', {}).get('brand:wikipedia'), name=x['name']) for x._json in  supermarkets.elements()])"
   ]
  }
 ],
 "metadata": {
  "kernelspec": {
   "display_name": "Python [conda env:geo]",
   "language": "python",
   "name": "conda-env-geo-py"
  },
  "language_info": {
   "codemirror_mode": {
    "name": "ipython",
    "version": 3
   },
   "file_extension": ".py",
   "mimetype": "text/x-python",
   "name": "python",
   "nbconvert_exporter": "python",
   "pygments_lexer": "ipython3",
   "version": "3.10.8"
  },
  "widgets": {
   "application/vnd.jupyter.widget-state+json": {
    "state": {},
    "version_major": 2,
    "version_minor": 0
   }
  }
 },
 "nbformat": 4,
 "nbformat_minor": 5
}

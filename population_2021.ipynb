{
 "cells": [
  {
   "cell_type": "code",
   "execution_count": 1,
   "id": "48d462a3-9b83-48e0-a40c-1aeb8a3851ef",
   "metadata": {},
   "outputs": [],
   "source": [
    "import pandas as pd\n",
    "import geopandas as gpd\n",
    "from shapely.geometry import Polygon\n",
    "import numpy as np\n",
    "from tqdm import tqdm\n",
    "import fiona"
   ]
  },
  {
   "cell_type": "code",
   "execution_count": 2,
   "id": "2fd48262-f8ed-4053-a504-3a6c4a362f0b",
   "metadata": {},
   "outputs": [],
   "source": [
    "%load_ext autoreload\n",
    "%autoreload 2\n",
    "%matplotlib inline"
   ]
  },
  {
   "cell_type": "markdown",
   "id": "caec0cfc-1f57-4ff6-b54f-541d3eb30fd5",
   "metadata": {},
   "source": [
    "Population data for Census 2021 according to Output Area (https://www.ons.gov.uk/filters/b9532b29-299e-4a23-9fc8-b99d68e172b9/dimensions)\n",
    "\n",
    "> Title: Population density\n",
    "Description: This dataset provides Census 2021 estimates that classify usual residents in England and Wales by population density (number of usual residents per square kilometre). The estimates are as at Census Day, 21 March 2021.\n",
    "\n",
    "\n",
    "> Output Areas (OAs) are the lowest level of geographical area for census statistics and were first created following the 2001 Census. Each OA is made up of between 40 and 250 households and a usually resident population of between 100 and 625 persons and may change after each census.\n"
   ]
  },
  {
   "cell_type": "code",
   "execution_count": 3,
   "id": "f4553ca9-2c3e-4af7-b753-7bd6e40b92ae",
   "metadata": {},
   "outputs": [
    {
     "data": {
      "text/html": [
       "<div>\n",
       "<style scoped>\n",
       "    .dataframe tbody tr th:only-of-type {\n",
       "        vertical-align: middle;\n",
       "    }\n",
       "\n",
       "    .dataframe tbody tr th {\n",
       "        vertical-align: top;\n",
       "    }\n",
       "\n",
       "    .dataframe thead th {\n",
       "        text-align: right;\n",
       "    }\n",
       "</style>\n",
       "<table border=\"1\" class=\"dataframe\">\n",
       "  <thead>\n",
       "    <tr style=\"text-align: right;\">\n",
       "      <th></th>\n",
       "      <th>Output Areas Code</th>\n",
       "      <th>Output Areas</th>\n",
       "      <th>Observation</th>\n",
       "    </tr>\n",
       "  </thead>\n",
       "  <tbody>\n",
       "    <tr>\n",
       "      <th>0</th>\n",
       "      <td>E00000001</td>\n",
       "      <td>E00000001</td>\n",
       "      <td>26268.7</td>\n",
       "    </tr>\n",
       "    <tr>\n",
       "      <th>1</th>\n",
       "      <td>E00000003</td>\n",
       "      <td>E00000003</td>\n",
       "      <td>60952.4</td>\n",
       "    </tr>\n",
       "    <tr>\n",
       "      <th>2</th>\n",
       "      <td>E00000005</td>\n",
       "      <td>E00000005</td>\n",
       "      <td>12873.6</td>\n",
       "    </tr>\n",
       "    <tr>\n",
       "      <th>3</th>\n",
       "      <td>E00000007</td>\n",
       "      <td>E00000007</td>\n",
       "      <td>1959.2</td>\n",
       "    </tr>\n",
       "    <tr>\n",
       "      <th>4</th>\n",
       "      <td>E00000010</td>\n",
       "      <td>E00000010</td>\n",
       "      <td>71200.0</td>\n",
       "    </tr>\n",
       "  </tbody>\n",
       "</table>\n",
       "</div>"
      ],
      "text/plain": [
       "  Output Areas Code Output Areas  Observation\n",
       "0         E00000001    E00000001      26268.7\n",
       "1         E00000003    E00000003      60952.4\n",
       "2         E00000005    E00000005      12873.6\n",
       "3         E00000007    E00000007       1959.2\n",
       "4         E00000010    E00000010      71200.0"
      ]
     },
     "execution_count": 3,
     "metadata": {},
     "output_type": "execute_result"
    }
   ],
   "source": [
    "population_oa = pd.read_csv('data/uk-census-2021-oa.csv')\n",
    "population_oa.head()"
   ]
  },
  {
   "cell_type": "markdown",
   "id": "bfc73672-1148-4892-96fe-d434929b6ee8",
   "metadata": {},
   "source": [
    "To match the above OA codes with actual geography, we have to obtain the boundaries of each output area-- these can be found on [UK's goverment geoportal](https://geoportal.statistics.gov.uk/datasets/ons::output-areas-dec-2021-boundaries-generalised-clipped-ew-bgc/explore?location=52.593248%2C-2.489483%2C7.00)-- note that I am using the 'generalised' version instead of the full version."
   ]
  },
  {
   "cell_type": "code",
   "execution_count": 4,
   "id": "1f608d1a-ad9b-4978-8df7-65d6b2a2bbe4",
   "metadata": {},
   "outputs": [],
   "source": [
    "boundaries = gpd.read_file('data/Output_Areas_(Dec_2021)_Boundaries_Generalised_Clipped_EW_(BGC)/Output_Areas_(Dec_2021)_Boundaries_Generalised_Clipped_EW_(BGC).shp')"
   ]
  },
  {
   "cell_type": "code",
   "execution_count": 5,
   "id": "a55c3201-40f3-4a18-b9a2-89364acd01eb",
   "metadata": {},
   "outputs": [
    {
     "data": {
      "text/html": [
       "<div>\n",
       "<style scoped>\n",
       "    .dataframe tbody tr th:only-of-type {\n",
       "        vertical-align: middle;\n",
       "    }\n",
       "\n",
       "    .dataframe tbody tr th {\n",
       "        vertical-align: top;\n",
       "    }\n",
       "\n",
       "    .dataframe thead th {\n",
       "        text-align: right;\n",
       "    }\n",
       "</style>\n",
       "<table border=\"1\" class=\"dataframe\">\n",
       "  <thead>\n",
       "    <tr style=\"text-align: right;\">\n",
       "      <th></th>\n",
       "      <th>OBJECTID</th>\n",
       "      <th>OA21CD</th>\n",
       "      <th>GlobalID</th>\n",
       "      <th>Shape__Are</th>\n",
       "      <th>Shape__Len</th>\n",
       "      <th>geometry</th>\n",
       "    </tr>\n",
       "  </thead>\n",
       "  <tbody>\n",
       "    <tr>\n",
       "      <th>0</th>\n",
       "      <td>1</td>\n",
       "      <td>E00000001</td>\n",
       "      <td>bc5eb21b-d42b-4715-a771-2c27575a08f0</td>\n",
       "      <td>6949.151482</td>\n",
       "      <td>421.166161</td>\n",
       "      <td>POLYGON ((532303.492 181814.110, 532213.378 18...</td>\n",
       "    </tr>\n",
       "    <tr>\n",
       "      <th>1</th>\n",
       "      <td>2</td>\n",
       "      <td>E00000003</td>\n",
       "      <td>a1a2b34f-320e-4bb8-acb4-7ca7ca16ef9c</td>\n",
       "      <td>4492.411072</td>\n",
       "      <td>307.714653</td>\n",
       "      <td>POLYGON ((532213.378 181846.192, 532190.539 18...</td>\n",
       "    </tr>\n",
       "    <tr>\n",
       "      <th>2</th>\n",
       "      <td>3</td>\n",
       "      <td>E00000005</td>\n",
       "      <td>9337da1a-fe0f-4210-9c95-ed2d20fd6287</td>\n",
       "      <td>8565.514214</td>\n",
       "      <td>385.204781</td>\n",
       "      <td>POLYGON ((532180.131 181763.020, 532219.161 18...</td>\n",
       "    </tr>\n",
       "    <tr>\n",
       "      <th>3</th>\n",
       "      <td>4</td>\n",
       "      <td>E00000007</td>\n",
       "      <td>b336e11f-af26-48a6-ac67-44f5b8b8840a</td>\n",
       "      <td>75994.829704</td>\n",
       "      <td>1408.607657</td>\n",
       "      <td>POLYGON ((532201.292 181668.180, 532267.728 18...</td>\n",
       "    </tr>\n",
       "    <tr>\n",
       "      <th>4</th>\n",
       "      <td>5</td>\n",
       "      <td>E00000010</td>\n",
       "      <td>ca8f9874-cdf5-4c1a-9d39-f74a410dae44</td>\n",
       "      <td>2102.876602</td>\n",
       "      <td>215.271975</td>\n",
       "      <td>POLYGON ((532127.958 182133.192, 532089.264 18...</td>\n",
       "    </tr>\n",
       "  </tbody>\n",
       "</table>\n",
       "</div>"
      ],
      "text/plain": [
       "   OBJECTID     OA21CD                              GlobalID    Shape__Are  \\\n",
       "0         1  E00000001  bc5eb21b-d42b-4715-a771-2c27575a08f0   6949.151482   \n",
       "1         2  E00000003  a1a2b34f-320e-4bb8-acb4-7ca7ca16ef9c   4492.411072   \n",
       "2         3  E00000005  9337da1a-fe0f-4210-9c95-ed2d20fd6287   8565.514214   \n",
       "3         4  E00000007  b336e11f-af26-48a6-ac67-44f5b8b8840a  75994.829704   \n",
       "4         5  E00000010  ca8f9874-cdf5-4c1a-9d39-f74a410dae44   2102.876602   \n",
       "\n",
       "    Shape__Len                                           geometry  \n",
       "0   421.166161  POLYGON ((532303.492 181814.110, 532213.378 18...  \n",
       "1   307.714653  POLYGON ((532213.378 181846.192, 532190.539 18...  \n",
       "2   385.204781  POLYGON ((532180.131 181763.020, 532219.161 18...  \n",
       "3  1408.607657  POLYGON ((532201.292 181668.180, 532267.728 18...  \n",
       "4   215.271975  POLYGON ((532127.958 182133.192, 532089.264 18...  "
      ]
     },
     "execution_count": 5,
     "metadata": {},
     "output_type": "execute_result"
    }
   ],
   "source": [
    "boundaries.head()"
   ]
  },
  {
   "cell_type": "markdown",
   "id": "1a80ade1-b1e5-4d51-863a-4174798f56bf",
   "metadata": {},
   "source": [
    "In the boundaries geodataframe, the columns we'll need is that 'OA21CD', 'Shape_Are' and 'geometry columns': 'OA21CD' can join to the population dataset from above, Shape__Are gives the area of the OA in m^2 (note that this is different from the poulation measurement unit, which is in km^2). We can in fact cross check it against the geometry column"
   ]
  },
  {
   "cell_type": "code",
   "execution_count": 6,
   "id": "e41fd415-8131-43f1-a5bf-b5e65f2698f2",
   "metadata": {},
   "outputs": [
    {
     "name": "stdout",
     "output_type": "stream",
     "text": [
      "geodata has projection of epsg:27700\n"
     ]
    }
   ],
   "source": [
    "# check that the projection is indeed british national grid eastings and northings\n",
    "print(f\"geodata has projection of {boundaries.crs}\")\n",
    "# check that the geometry gives ~the same area as what shape_are gives to a 10m^2 tolerance\n",
    "assert ((boundaries.area.astype(int)- boundaries.Shape__Are.astype(int)).abs() < 10).sum() == len(boundaries)"
   ]
  },
  {
   "cell_type": "code",
   "execution_count": null,
   "id": "eea2aa0f-4aaf-41f1-8ac3-4dc52655a25f",
   "metadata": {},
   "outputs": [],
   "source": []
  },
  {
   "cell_type": "markdown",
   "id": "b71d1529-4818-4818-94f3-9e2a4cd20e3b",
   "metadata": {},
   "source": [
    "Since we are only interested in Greater London, we can filter out rows from the boundaries dataframe that are outside of the london bounding box.\n",
    "\n",
    "We can get the bounding box of london using the OSM query https://nominatim.openstreetmap.org/search.php?city=london&country=uk&format=jsonv2 (the first entry is the correct one), giving a boundingbox of ymin, ymax, xmin, xmax of \"51.2867602\",\"51.6918741\",\"-0.5103751\",\"0.3340155\""
   ]
  },
  {
   "cell_type": "code",
   "execution_count": 14,
   "id": "547cfe3c-cf23-44e2-9bde-8d2011314511",
   "metadata": {},
   "outputs": [
    {
     "data": {
      "text/plain": [
       "0    POLYGON ((503976.311 155234.131, 503059.759 20...\n",
       "dtype: geometry"
      ]
     },
     "execution_count": 14,
     "metadata": {},
     "output_type": "execute_result"
    }
   ],
   "source": [
    "ldn_bounding_box = Polygon.from_bounds( -0.5103751, 51.2867602,0.3340155, 51.691874 )\n",
    "ldn_bounding_box = gpd.GeoSeries([ldn_bounding_box], crs='epsg:4326').to_crs(boundaries.crs)\n",
    "ldn_bounding_box.geometry"
   ]
  },
  {
   "cell_type": "markdown",
   "id": "25d1af2d-0f81-4f60-98f1-8590fc0460eb",
   "metadata": {},
   "source": [
    "Convert the geodataframe into a grid for downstream tasks-- Ordnance survey actually has a file of british grids at various resolutions prebuilt (https://github.com/OrdnanceSurvey/OS-British-National-Grids), -- the smallest is 1km by 1km, so we will construct our own 100m x 100m grid for london (We can do it for the whole uk, but we will have to iterate through the dataset as the number of cells will become very large)\n"
   ]
  },
  {
   "cell_type": "markdown",
   "id": "ba9d958e-47b7-4791-8692-2d0f9342e336",
   "metadata": {},
   "source": [
    "**diversion**\n",
    "\n",
    "This demos how to use the grid gpkg file from OS-- the gpkg is a vector file with multiple 'layers' the same way a raster file can have bands"
   ]
  },
  {
   "cell_type": "code",
   "execution_count": 7,
   "id": "4acc6f6e-9c70-4e19-8e06-7ff9e34d989c",
   "metadata": {},
   "outputs": [
    {
     "data": {
      "text/plain": [
       "['100km_grid', '50km_grid', '20km_grid', '10km_grid', '5km_grid', '1km_grid']"
      ]
     },
     "execution_count": 7,
     "metadata": {},
     "output_type": "execute_result"
    }
   ],
   "source": [
    "# get the layer names\n",
    "list(fiona.listlayers('data/os_bng_grids.gpkg'))"
   ]
  },
  {
   "cell_type": "code",
   "execution_count": 8,
   "id": "ecfd070c-2bb5-42c1-9942-22a2d7e989ab",
   "metadata": {},
   "outputs": [
    {
     "data": {
      "text/html": [
       "<div>\n",
       "<style scoped>\n",
       "    .dataframe tbody tr th:only-of-type {\n",
       "        vertical-align: middle;\n",
       "    }\n",
       "\n",
       "    .dataframe tbody tr th {\n",
       "        vertical-align: top;\n",
       "    }\n",
       "\n",
       "    .dataframe thead th {\n",
       "        text-align: right;\n",
       "    }\n",
       "</style>\n",
       "<table border=\"1\" class=\"dataframe\">\n",
       "  <thead>\n",
       "    <tr style=\"text-align: right;\">\n",
       "      <th></th>\n",
       "      <th>tile_name</th>\n",
       "      <th>geometry</th>\n",
       "    </tr>\n",
       "  </thead>\n",
       "  <tbody>\n",
       "    <tr>\n",
       "      <th>0</th>\n",
       "      <td>HL0000</td>\n",
       "      <td>POLYGON ((0.000 1200000.000, 1000.000 1200000....</td>\n",
       "    </tr>\n",
       "    <tr>\n",
       "      <th>1</th>\n",
       "      <td>HL0001</td>\n",
       "      <td>POLYGON ((0.000 1201000.000, 1000.000 1201000....</td>\n",
       "    </tr>\n",
       "    <tr>\n",
       "      <th>2</th>\n",
       "      <td>HL0002</td>\n",
       "      <td>POLYGON ((0.000 1202000.000, 1000.000 1202000....</td>\n",
       "    </tr>\n",
       "    <tr>\n",
       "      <th>3</th>\n",
       "      <td>HL0003</td>\n",
       "      <td>POLYGON ((0.000 1203000.000, 1000.000 1203000....</td>\n",
       "    </tr>\n",
       "    <tr>\n",
       "      <th>4</th>\n",
       "      <td>HL0004</td>\n",
       "      <td>POLYGON ((0.000 1204000.000, 1000.000 1204000....</td>\n",
       "    </tr>\n",
       "  </tbody>\n",
       "</table>\n",
       "</div>"
      ],
      "text/plain": [
       "  tile_name                                           geometry\n",
       "0    HL0000  POLYGON ((0.000 1200000.000, 1000.000 1200000....\n",
       "1    HL0001  POLYGON ((0.000 1201000.000, 1000.000 1201000....\n",
       "2    HL0002  POLYGON ((0.000 1202000.000, 1000.000 1202000....\n",
       "3    HL0003  POLYGON ((0.000 1203000.000, 1000.000 1203000....\n",
       "4    HL0004  POLYGON ((0.000 1204000.000, 1000.000 1204000...."
      ]
     },
     "execution_count": 8,
     "metadata": {},
     "output_type": "execute_result"
    }
   ],
   "source": [
    "layername = '1km_grid'\n",
    "bsng_grid_1km = gpd.read_file('data/os_bng_grids.gpkg', layer=layername)\n",
    "bsng_grid_1km.head()"
   ]
  },
  {
   "cell_type": "code",
   "execution_count": 128,
   "id": "b2403e94-4f60-4c02-bd8c-3961b2ccab94",
   "metadata": {},
   "outputs": [
    {
     "data": {
      "text/plain": [
       "0    POLYGON ((503976.311 155234.131, 503059.759 20...\n",
       "Name: 0, dtype: geometry"
      ]
     },
     "execution_count": 128,
     "metadata": {},
     "output_type": "execute_result"
    }
   ],
   "source": [
    "gpd.GeoDataFrame(ldn_bounding_box.reset_index()).geometry"
   ]
  },
  {
   "cell_type": "markdown",
   "id": "b2dff3d1-f893-48e3-a547-1ff615eb6230",
   "metadata": {},
   "source": [
    "Back to our task, we filter out the OA that intersects the london bounding box:"
   ]
  },
  {
   "cell_type": "code",
   "execution_count": 20,
   "id": "b4b31d22-52e2-4731-a8df-b6916dfbe0d3",
   "metadata": {},
   "outputs": [
    {
     "data": {
      "text/html": [
       "<div>\n",
       "<style scoped>\n",
       "    .dataframe tbody tr th:only-of-type {\n",
       "        vertical-align: middle;\n",
       "    }\n",
       "\n",
       "    .dataframe tbody tr th {\n",
       "        vertical-align: top;\n",
       "    }\n",
       "\n",
       "    .dataframe thead th {\n",
       "        text-align: right;\n",
       "    }\n",
       "</style>\n",
       "<table border=\"1\" class=\"dataframe\">\n",
       "  <thead>\n",
       "    <tr style=\"text-align: right;\">\n",
       "      <th></th>\n",
       "      <th>OA21CD</th>\n",
       "      <th>geometry</th>\n",
       "    </tr>\n",
       "  </thead>\n",
       "  <tbody>\n",
       "    <tr>\n",
       "      <th>0</th>\n",
       "      <td>E00000001</td>\n",
       "      <td>POLYGON ((532303.492 181814.110, 532213.378 18...</td>\n",
       "    </tr>\n",
       "    <tr>\n",
       "      <th>1</th>\n",
       "      <td>E00000003</td>\n",
       "      <td>POLYGON ((532213.378 181846.192, 532190.539 18...</td>\n",
       "    </tr>\n",
       "    <tr>\n",
       "      <th>2</th>\n",
       "      <td>E00000005</td>\n",
       "      <td>POLYGON ((532180.131 181763.020, 532219.161 18...</td>\n",
       "    </tr>\n",
       "    <tr>\n",
       "      <th>3</th>\n",
       "      <td>E00000007</td>\n",
       "      <td>POLYGON ((532201.292 181668.180, 532267.728 18...</td>\n",
       "    </tr>\n",
       "    <tr>\n",
       "      <th>4</th>\n",
       "      <td>E00000010</td>\n",
       "      <td>POLYGON ((532127.958 182133.192, 532089.264 18...</td>\n",
       "    </tr>\n",
       "  </tbody>\n",
       "</table>\n",
       "</div>"
      ],
      "text/plain": [
       "      OA21CD                                           geometry\n",
       "0  E00000001  POLYGON ((532303.492 181814.110, 532213.378 18...\n",
       "1  E00000003  POLYGON ((532213.378 181846.192, 532190.539 18...\n",
       "2  E00000005  POLYGON ((532180.131 181763.020, 532219.161 18...\n",
       "3  E00000007  POLYGON ((532201.292 181668.180, 532267.728 18...\n",
       "4  E00000010  POLYGON ((532127.958 182133.192, 532089.264 18..."
      ]
     },
     "execution_count": 20,
     "metadata": {},
     "output_type": "execute_result"
    }
   ],
   "source": [
    "ldn_boundaries = boundaries[['OA21CD', 'geometry']].sjoin(gpd.GeoDataFrame(ldn_bounding_box.reset_index()), how='inner')[['OA21CD', 'geometry']]\n",
    "ldn_boundaries.head()"
   ]
  },
  {
   "cell_type": "code",
   "execution_count": 28,
   "id": "777d9656-edfb-47f5-9df9-cf1f446adf59",
   "metadata": {},
   "outputs": [
    {
     "data": {
      "text/plain": [
       "(503059.75944664044, 155234.13110756868, 562854.9611320551, 201813.5769950911)"
      ]
     },
     "execution_count": 28,
     "metadata": {},
     "output_type": "execute_result"
    }
   ],
   "source": [
    "ldn_bounding_box.geometry[0].bounds"
   ]
  },
  {
   "cell_type": "code",
   "execution_count": 37,
   "id": "3f005f85-405f-48f9-8c6a-d72e6aec0bfc",
   "metadata": {},
   "outputs": [
    {
     "name": "stderr",
     "output_type": "stream",
     "text": [
      "100%|████████████████████████████████| 279733/279733 [00:05<00:00, 53816.63it/s]\n"
     ]
    }
   ],
   "source": [
    "# create a 100m by 100m grid for london\n",
    "cellsize=100\n",
    "# British National Grid extent (0,0 700000,1300000)\n",
    "\n",
    "xmin, ymin,  xmax, ymax = [100 * (x//100 )for x in ldn_bounding_box.geometry[0].bounds] \n",
    "matrix = np.mgrid[int(xmin):int(xmax + cellsize):cellsize, int(ymin):int(ymax+ cellsize):cellsize]\n",
    "\n",
    "xcoor = matrix[0].flatten()\n",
    "ycoor = matrix[1].flatten()\n",
    "\n",
    "xcoor_max = xcoor +cellsize\n",
    "ycoor_max = ycoor + cellsize\n",
    "\n",
    "polygons = []\n",
    "for x, y, xmax, ymax in tqdm(zip (xcoor, ycoor, xcoor_max, ycoor_max), total=len(ycoor)):\n",
    "    polygons.append(Polygon.from_bounds(x, y, xmax, ymax))\n",
    "grid = gpd.GeoDataFrame(data={'cellid': np.arange(len(polygons))},geometry=polygons, crs=boundaries.crs)"
   ]
  },
  {
   "cell_type": "markdown",
   "id": "8ede31ff-d9d3-4703-8076-d6311b42ca0b",
   "metadata": {},
   "source": [
    "Join the grid to the OA polygons to get the demographics info per grid cell"
   ]
  },
  {
   "cell_type": "code",
   "execution_count": 53,
   "id": "32053682-5db4-4d6b-bf85-f56b5f19e01b",
   "metadata": {},
   "outputs": [
    {
     "name": "stdout",
     "output_type": "stream",
     "text": [
      "(279733, 2)\n",
      "(30160, 2)\n"
     ]
    }
   ],
   "source": [
    "print(grid.shape)\n",
    "print(ldn_boundaries.shape)\n",
    "\n",
    "ldn_demographics_grid = grid.sjoin(boundaries)"
   ]
  },
  {
   "cell_type": "code",
   "execution_count": 54,
   "id": "9ff1c6cc-7777-4a64-a1b4-b46d0d2be08d",
   "metadata": {},
   "outputs": [
    {
     "data": {
      "text/html": [
       "<div>\n",
       "<style scoped>\n",
       "    .dataframe tbody tr th:only-of-type {\n",
       "        vertical-align: middle;\n",
       "    }\n",
       "\n",
       "    .dataframe tbody tr th {\n",
       "        vertical-align: top;\n",
       "    }\n",
       "\n",
       "    .dataframe thead th {\n",
       "        text-align: right;\n",
       "    }\n",
       "</style>\n",
       "<table border=\"1\" class=\"dataframe\">\n",
       "  <thead>\n",
       "    <tr style=\"text-align: right;\">\n",
       "      <th></th>\n",
       "      <th>cellid</th>\n",
       "      <th>geometry</th>\n",
       "      <th>index_right</th>\n",
       "      <th>OBJECTID</th>\n",
       "      <th>OA21CD</th>\n",
       "      <th>GlobalID</th>\n",
       "      <th>Shape__Are</th>\n",
       "      <th>Shape__Len</th>\n",
       "    </tr>\n",
       "  </thead>\n",
       "  <tbody>\n",
       "    <tr>\n",
       "      <th>0</th>\n",
       "      <td>0</td>\n",
       "      <td>POLYGON ((503000.000 155200.000, 503000.000 15...</td>\n",
       "      <td>147286</td>\n",
       "      <td>147287</td>\n",
       "      <td>E00155442</td>\n",
       "      <td>5c96e7ec-ecb5-458b-b6e3-3f170061650d</td>\n",
       "      <td>312112.652298</td>\n",
       "      <td>2691.258154</td>\n",
       "    </tr>\n",
       "    <tr>\n",
       "      <th>1</th>\n",
       "      <td>1</td>\n",
       "      <td>POLYGON ((503000.000 155300.000, 503000.000 15...</td>\n",
       "      <td>147286</td>\n",
       "      <td>147287</td>\n",
       "      <td>E00155442</td>\n",
       "      <td>5c96e7ec-ecb5-458b-b6e3-3f170061650d</td>\n",
       "      <td>312112.652298</td>\n",
       "      <td>2691.258154</td>\n",
       "    </tr>\n",
       "    <tr>\n",
       "      <th>2</th>\n",
       "      <td>2</td>\n",
       "      <td>POLYGON ((503000.000 155400.000, 503000.000 15...</td>\n",
       "      <td>147286</td>\n",
       "      <td>147287</td>\n",
       "      <td>E00155442</td>\n",
       "      <td>5c96e7ec-ecb5-458b-b6e3-3f170061650d</td>\n",
       "      <td>312112.652298</td>\n",
       "      <td>2691.258154</td>\n",
       "    </tr>\n",
       "    <tr>\n",
       "      <th>467</th>\n",
       "      <td>467</td>\n",
       "      <td>POLYGON ((503100.000 155200.000, 503100.000 15...</td>\n",
       "      <td>147286</td>\n",
       "      <td>147287</td>\n",
       "      <td>E00155442</td>\n",
       "      <td>5c96e7ec-ecb5-458b-b6e3-3f170061650d</td>\n",
       "      <td>312112.652298</td>\n",
       "      <td>2691.258154</td>\n",
       "    </tr>\n",
       "    <tr>\n",
       "      <th>468</th>\n",
       "      <td>468</td>\n",
       "      <td>POLYGON ((503100.000 155300.000, 503100.000 15...</td>\n",
       "      <td>147286</td>\n",
       "      <td>147287</td>\n",
       "      <td>E00155442</td>\n",
       "      <td>5c96e7ec-ecb5-458b-b6e3-3f170061650d</td>\n",
       "      <td>312112.652298</td>\n",
       "      <td>2691.258154</td>\n",
       "    </tr>\n",
       "    <tr>\n",
       "      <th>...</th>\n",
       "      <td>...</td>\n",
       "      <td>...</td>\n",
       "      <td>...</td>\n",
       "      <td>...</td>\n",
       "      <td>...</td>\n",
       "      <td>...</td>\n",
       "      <td>...</td>\n",
       "      <td>...</td>\n",
       "    </tr>\n",
       "    <tr>\n",
       "      <th>279671</th>\n",
       "      <td>279671</td>\n",
       "      <td>POLYGON ((562800.000 195700.000, 562800.000 19...</td>\n",
       "      <td>103204</td>\n",
       "      <td>103205</td>\n",
       "      <td>E00108990</td>\n",
       "      <td>53fb368c-3684-4be0-b859-93b09ea9fdd4</td>\n",
       "      <td>84283.686378</td>\n",
       "      <td>1503.476417</td>\n",
       "    </tr>\n",
       "    <tr>\n",
       "      <th>279672</th>\n",
       "      <td>279672</td>\n",
       "      <td>POLYGON ((562800.000 195800.000, 562800.000 19...</td>\n",
       "      <td>103204</td>\n",
       "      <td>103205</td>\n",
       "      <td>E00108990</td>\n",
       "      <td>53fb368c-3684-4be0-b859-93b09ea9fdd4</td>\n",
       "      <td>84283.686378</td>\n",
       "      <td>1503.476417</td>\n",
       "    </tr>\n",
       "    <tr>\n",
       "      <th>279673</th>\n",
       "      <td>279673</td>\n",
       "      <td>POLYGON ((562800.000 195900.000, 562800.000 19...</td>\n",
       "      <td>103204</td>\n",
       "      <td>103205</td>\n",
       "      <td>E00108990</td>\n",
       "      <td>53fb368c-3684-4be0-b859-93b09ea9fdd4</td>\n",
       "      <td>84283.686378</td>\n",
       "      <td>1503.476417</td>\n",
       "    </tr>\n",
       "    <tr>\n",
       "      <th>279674</th>\n",
       "      <td>279674</td>\n",
       "      <td>POLYGON ((562800.000 196000.000, 562800.000 19...</td>\n",
       "      <td>103204</td>\n",
       "      <td>103205</td>\n",
       "      <td>E00108990</td>\n",
       "      <td>53fb368c-3684-4be0-b859-93b09ea9fdd4</td>\n",
       "      <td>84283.686378</td>\n",
       "      <td>1503.476417</td>\n",
       "    </tr>\n",
       "    <tr>\n",
       "      <th>279675</th>\n",
       "      <td>279675</td>\n",
       "      <td>POLYGON ((562800.000 196100.000, 562800.000 19...</td>\n",
       "      <td>103204</td>\n",
       "      <td>103205</td>\n",
       "      <td>E00108990</td>\n",
       "      <td>53fb368c-3684-4be0-b859-93b09ea9fdd4</td>\n",
       "      <td>84283.686378</td>\n",
       "      <td>1503.476417</td>\n",
       "    </tr>\n",
       "  </tbody>\n",
       "</table>\n",
       "<p>536587 rows × 8 columns</p>\n",
       "</div>"
      ],
      "text/plain": [
       "        cellid                                           geometry  \\\n",
       "0            0  POLYGON ((503000.000 155200.000, 503000.000 15...   \n",
       "1            1  POLYGON ((503000.000 155300.000, 503000.000 15...   \n",
       "2            2  POLYGON ((503000.000 155400.000, 503000.000 15...   \n",
       "467        467  POLYGON ((503100.000 155200.000, 503100.000 15...   \n",
       "468        468  POLYGON ((503100.000 155300.000, 503100.000 15...   \n",
       "...        ...                                                ...   \n",
       "279671  279671  POLYGON ((562800.000 195700.000, 562800.000 19...   \n",
       "279672  279672  POLYGON ((562800.000 195800.000, 562800.000 19...   \n",
       "279673  279673  POLYGON ((562800.000 195900.000, 562800.000 19...   \n",
       "279674  279674  POLYGON ((562800.000 196000.000, 562800.000 19...   \n",
       "279675  279675  POLYGON ((562800.000 196100.000, 562800.000 19...   \n",
       "\n",
       "        index_right  OBJECTID     OA21CD  \\\n",
       "0            147286    147287  E00155442   \n",
       "1            147286    147287  E00155442   \n",
       "2            147286    147287  E00155442   \n",
       "467          147286    147287  E00155442   \n",
       "468          147286    147287  E00155442   \n",
       "...             ...       ...        ...   \n",
       "279671       103204    103205  E00108990   \n",
       "279672       103204    103205  E00108990   \n",
       "279673       103204    103205  E00108990   \n",
       "279674       103204    103205  E00108990   \n",
       "279675       103204    103205  E00108990   \n",
       "\n",
       "                                    GlobalID     Shape__Are   Shape__Len  \n",
       "0       5c96e7ec-ecb5-458b-b6e3-3f170061650d  312112.652298  2691.258154  \n",
       "1       5c96e7ec-ecb5-458b-b6e3-3f170061650d  312112.652298  2691.258154  \n",
       "2       5c96e7ec-ecb5-458b-b6e3-3f170061650d  312112.652298  2691.258154  \n",
       "467     5c96e7ec-ecb5-458b-b6e3-3f170061650d  312112.652298  2691.258154  \n",
       "468     5c96e7ec-ecb5-458b-b6e3-3f170061650d  312112.652298  2691.258154  \n",
       "...                                      ...            ...          ...  \n",
       "279671  53fb368c-3684-4be0-b859-93b09ea9fdd4   84283.686378  1503.476417  \n",
       "279672  53fb368c-3684-4be0-b859-93b09ea9fdd4   84283.686378  1503.476417  \n",
       "279673  53fb368c-3684-4be0-b859-93b09ea9fdd4   84283.686378  1503.476417  \n",
       "279674  53fb368c-3684-4be0-b859-93b09ea9fdd4   84283.686378  1503.476417  \n",
       "279675  53fb368c-3684-4be0-b859-93b09ea9fdd4   84283.686378  1503.476417  \n",
       "\n",
       "[536587 rows x 8 columns]"
      ]
     },
     "execution_count": 54,
     "metadata": {},
     "output_type": "execute_result"
    }
   ],
   "source": [
    "ldn_demographics_grid"
   ]
  },
  {
   "cell_type": "code",
   "execution_count": 74,
   "id": "2f97324d-c344-41dc-8cf5-6b776bd23d59",
   "metadata": {},
   "outputs": [
    {
     "data": {
      "text/plain": [
       "<matplotlib.legend.Legend at 0x7f162774bfd0>"
      ]
     },
     "execution_count": 74,
     "metadata": {},
     "output_type": "execute_result"
    },
    {
     "data": {
      "image/png": "[encoded data removed]",
      "text/plain": [
       "<Figure size 640x480 with 1 Axes>"
      ]
     },
     "metadata": {},
     "output_type": "display_data"
    }
   ],
   "source": [
    "# as we can see, the OA size span is quite large --luckily most OA are larger than a grid cell. \n",
    "ax =ldn_demographics_grid.drop_duplicates(subset='OA21CD').Shape__Are.apply(np.log10).hist(bins = 100)\n",
    "ax.set_xlabel('OA area m^2')\n",
    "ax.set_ylabel('number of OA')\n",
    "ax.vlines(4,0,1800, colors='b', label='10,000 m^2 (Size of cell)')\n",
    "ax.legend()"
   ]
  },
  {
   "cell_type": "markdown",
   "id": "6f030b34-4a19-4ede-a86d-e089308d806f",
   "metadata": {},
   "source": [
    "There are clearly duplicates-- e.g. when a grid cell span more than 1 OA, and where 1OA span more than 1cell-- this is more likely for the OA to span mutliple cells than the other way round. Base on this assumption, we assign each cell to one OA by dropping duplicadtes"
   ]
  },
  {
   "cell_type": "code",
   "execution_count": 75,
   "id": "6bc37ff2-f927-4272-812e-23c668964f13",
   "metadata": {},
   "outputs": [],
   "source": [
    "ldn_demographics_grid = ldn_demographics_grid.drop_duplicates(subset='cellid')"
   ]
  },
  {
   "cell_type": "code",
   "execution_count": 76,
   "id": "7a26cda1-c86e-49f0-9912-11c39deb66c0",
   "metadata": {},
   "outputs": [],
   "source": [
    "# drop all the unneed cols\n",
    "ldn_demographics_grid = ldn_demographics_grid[['cellid', 'OA21CD', 'geometry']]"
   ]
  },
  {
   "cell_type": "markdown",
   "id": "f5e6cf2c-570f-4fa5-acf5-c407d9ab6893",
   "metadata": {},
   "source": [
    "Finally, let's populate these grid cells with demographic data\n",
    "- [household size by OA](https://www.ons.gov.uk/datasets/TS017/editions/2021/versions/2/filter-outputs/1799bd24-15d0-43ca-81d4-bccb7434f0d4#get-data)\n",
    "- [education](https://www.ons.gov.uk/datasets/TS067/editions/2021/versions/1/filter-outputs/55e2442d-5a41-4ca2-872f-030d52af39d7#get-data)\n",
    "- [population density]((https://www.ons.gov.uk/filters/b9532b29-299e-4a23-9fc8-b99d68e172b9/dimensions)\n",
    "- [sex](https://www.ons.gov.uk/datasets/TS008/editions/2021/versions/3/filter-outputs/4f979d87-7e23-4e29-83ed-db14647e92ba#get-data)\n",
    "\n",
    "We have discussed the population data above, let's now tidy up the other datasets"
   ]
  },
  {
   "cell_type": "markdown",
   "id": "1de10cdd-0301-4809-8d78-4b6d7178f39b",
   "metadata": {},
   "source": [
    "**household size**"
   ]
  },
  {
   "cell_type": "code",
   "execution_count": 78,
   "id": "170fff9d-d687-4fce-a422-b6bba941326d",
   "metadata": {},
   "outputs": [
    {
     "data": {
      "text/html": [
       "<div>\n",
       "<style scoped>\n",
       "    .dataframe tbody tr th:only-of-type {\n",
       "        vertical-align: middle;\n",
       "    }\n",
       "\n",
       "    .dataframe tbody tr th {\n",
       "        vertical-align: top;\n",
       "    }\n",
       "\n",
       "    .dataframe thead th {\n",
       "        text-align: right;\n",
       "    }\n",
       "</style>\n",
       "<table border=\"1\" class=\"dataframe\">\n",
       "  <thead>\n",
       "    <tr style=\"text-align: right;\">\n",
       "      <th></th>\n",
       "      <th>Output Areas Code</th>\n",
       "      <th>Output Areas</th>\n",
       "      <th>Household size (9 categories) Code</th>\n",
       "      <th>Household size (9 categories)</th>\n",
       "      <th>Observation</th>\n",
       "    </tr>\n",
       "  </thead>\n",
       "  <tbody>\n",
       "    <tr>\n",
       "      <th>0</th>\n",
       "      <td>E00000001</td>\n",
       "      <td>E00000001</td>\n",
       "      <td>0</td>\n",
       "      <td>0 people in household</td>\n",
       "      <td>0</td>\n",
       "    </tr>\n",
       "    <tr>\n",
       "      <th>1</th>\n",
       "      <td>E00000001</td>\n",
       "      <td>E00000001</td>\n",
       "      <td>1</td>\n",
       "      <td>1 person in household</td>\n",
       "      <td>34</td>\n",
       "    </tr>\n",
       "    <tr>\n",
       "      <th>2</th>\n",
       "      <td>E00000001</td>\n",
       "      <td>E00000001</td>\n",
       "      <td>2</td>\n",
       "      <td>2 people in household</td>\n",
       "      <td>44</td>\n",
       "    </tr>\n",
       "    <tr>\n",
       "      <th>3</th>\n",
       "      <td>E00000001</td>\n",
       "      <td>E00000001</td>\n",
       "      <td>3</td>\n",
       "      <td>3 people in household</td>\n",
       "      <td>10</td>\n",
       "    </tr>\n",
       "    <tr>\n",
       "      <th>4</th>\n",
       "      <td>E00000001</td>\n",
       "      <td>E00000001</td>\n",
       "      <td>4</td>\n",
       "      <td>4 people in household</td>\n",
       "      <td>6</td>\n",
       "    </tr>\n",
       "  </tbody>\n",
       "</table>\n",
       "</div>"
      ],
      "text/plain": [
       "  Output Areas Code Output Areas  Household size (9 categories) Code  \\\n",
       "0         E00000001    E00000001                                   0   \n",
       "1         E00000001    E00000001                                   1   \n",
       "2         E00000001    E00000001                                   2   \n",
       "3         E00000001    E00000001                                   3   \n",
       "4         E00000001    E00000001                                   4   \n",
       "\n",
       "  Household size (9 categories)  Observation  \n",
       "0         0 people in household            0  \n",
       "1         1 person in household           34  \n",
       "2         2 people in household           44  \n",
       "3         3 people in household           10  \n",
       "4         4 people in household            6  "
      ]
     },
     "execution_count": 78,
     "metadata": {},
     "output_type": "execute_result"
    }
   ],
   "source": [
    "houshold = pd.read_csv('data/household_size_output_area_census2021.csv')\n",
    "houshold.head()"
   ]
  },
  {
   "cell_type": "markdown",
   "id": "ad0b7cc0-54fe-4503-9642-c02e64cb626a",
   "metadata": {},
   "source": [
    "We can use the 'code' as a proxy for household size"
   ]
  },
  {
   "cell_type": "code",
   "execution_count": 82,
   "id": "788fd5a6-8ab4-4db5-aed9-afa3304e6fa0",
   "metadata": {},
   "outputs": [
    {
     "data": {
      "text/html": [
       "<div>\n",
       "<style scoped>\n",
       "    .dataframe tbody tr th:only-of-type {\n",
       "        vertical-align: middle;\n",
       "    }\n",
       "\n",
       "    .dataframe tbody tr th {\n",
       "        vertical-align: top;\n",
       "    }\n",
       "\n",
       "    .dataframe thead th {\n",
       "        text-align: right;\n",
       "    }\n",
       "</style>\n",
       "<table border=\"1\" class=\"dataframe\">\n",
       "  <thead>\n",
       "    <tr style=\"text-align: right;\">\n",
       "      <th></th>\n",
       "      <th>Household size (9 categories)</th>\n",
       "      <th>Household size (9 categories) Code</th>\n",
       "    </tr>\n",
       "  </thead>\n",
       "  <tbody>\n",
       "    <tr>\n",
       "      <th>0</th>\n",
       "      <td>0 people in household</td>\n",
       "      <td>0</td>\n",
       "    </tr>\n",
       "    <tr>\n",
       "      <th>1</th>\n",
       "      <td>1 person in household</td>\n",
       "      <td>1</td>\n",
       "    </tr>\n",
       "    <tr>\n",
       "      <th>2</th>\n",
       "      <td>2 people in household</td>\n",
       "      <td>2</td>\n",
       "    </tr>\n",
       "    <tr>\n",
       "      <th>3</th>\n",
       "      <td>3 people in household</td>\n",
       "      <td>3</td>\n",
       "    </tr>\n",
       "    <tr>\n",
       "      <th>4</th>\n",
       "      <td>4 people in household</td>\n",
       "      <td>4</td>\n",
       "    </tr>\n",
       "    <tr>\n",
       "      <th>5</th>\n",
       "      <td>5 people in household</td>\n",
       "      <td>5</td>\n",
       "    </tr>\n",
       "    <tr>\n",
       "      <th>6</th>\n",
       "      <td>6 people in household</td>\n",
       "      <td>6</td>\n",
       "    </tr>\n",
       "    <tr>\n",
       "      <th>7</th>\n",
       "      <td>7 people in household</td>\n",
       "      <td>7</td>\n",
       "    </tr>\n",
       "    <tr>\n",
       "      <th>8</th>\n",
       "      <td>8 or more people in household</td>\n",
       "      <td>8</td>\n",
       "    </tr>\n",
       "  </tbody>\n",
       "</table>\n",
       "</div>"
      ],
      "text/plain": [
       "   Household size (9 categories)  Household size (9 categories) Code\n",
       "0          0 people in household                                   0\n",
       "1          1 person in household                                   1\n",
       "2          2 people in household                                   2\n",
       "3          3 people in household                                   3\n",
       "4          4 people in household                                   4\n",
       "5          5 people in household                                   5\n",
       "6          6 people in household                                   6\n",
       "7          7 people in household                                   7\n",
       "8  8 or more people in household                                   8"
      ]
     },
     "execution_count": 82,
     "metadata": {},
     "output_type": "execute_result"
    }
   ],
   "source": [
    "houshold[['Household size (9 categories)', 'Household size (9 categories) Code']].drop_duplicates()"
   ]
  },
  {
   "cell_type": "code",
   "execution_count": 99,
   "id": "afa2daae-a054-41b8-ba72-1f17bcd24aff",
   "metadata": {},
   "outputs": [
    {
     "name": "stderr",
     "output_type": "stream",
     "text": [
      "/tmp/ipykernel_8836/2961719914.py:2: SettingWithCopyWarning: \n",
      "A value is trying to be set on a copy of a slice from a DataFrame.\n",
      "Try using .loc[row_indexer,col_indexer] = value instead\n",
      "\n",
      "See the caveats in the documentation: https://pandas.pydata.org/pandas-docs/stable/user_guide/indexing.html#returning-a-view-versus-a-copy\n",
      "  mean_household_size['counts'] = mean_household_size['Household size (9 categories) Code'] * mean_household_size['Observation']\n"
     ]
    }
   ],
   "source": [
    "mean_household_size = houshold[['Output Areas Code', 'Household size (9 categories) Code','Observation']]\n",
    "mean_household_size['counts'] = mean_household_size['Household size (9 categories) Code'] * mean_household_size['Observation']\n",
    "mean_household_size = mean_household_size.groupby('Output Areas Code')['counts'].sum()\n",
    "mean_household_size_totals = houshold[['Output Areas Code', 'Household size (9 categories) Code','Observation']].groupby('Output Areas Code')['Observation'].sum()"
   ]
  },
  {
   "cell_type": "code",
   "execution_count": 100,
   "id": "78ce8507-c452-46e0-9eb6-1a6e3b48ea7d",
   "metadata": {},
   "outputs": [
    {
     "data": {
      "text/html": [
       "<div>\n",
       "<style scoped>\n",
       "    .dataframe tbody tr th:only-of-type {\n",
       "        vertical-align: middle;\n",
       "    }\n",
       "\n",
       "    .dataframe tbody tr th {\n",
       "        vertical-align: top;\n",
       "    }\n",
       "\n",
       "    .dataframe thead th {\n",
       "        text-align: right;\n",
       "    }\n",
       "</style>\n",
       "<table border=\"1\" class=\"dataframe\">\n",
       "  <thead>\n",
       "    <tr style=\"text-align: right;\">\n",
       "      <th></th>\n",
       "      <th>Output Areas Code</th>\n",
       "      <th>counts</th>\n",
       "    </tr>\n",
       "  </thead>\n",
       "  <tbody>\n",
       "    <tr>\n",
       "      <th>0</th>\n",
       "      <td>E00000001</td>\n",
       "      <td>176</td>\n",
       "    </tr>\n",
       "    <tr>\n",
       "      <th>1</th>\n",
       "      <td>E00000003</td>\n",
       "      <td>256</td>\n",
       "    </tr>\n",
       "    <tr>\n",
       "      <th>2</th>\n",
       "      <td>E00000005</td>\n",
       "      <td>112</td>\n",
       "    </tr>\n",
       "    <tr>\n",
       "      <th>3</th>\n",
       "      <td>E00000007</td>\n",
       "      <td>145</td>\n",
       "    </tr>\n",
       "    <tr>\n",
       "      <th>4</th>\n",
       "      <td>E00000010</td>\n",
       "      <td>173</td>\n",
       "    </tr>\n",
       "    <tr>\n",
       "      <th>...</th>\n",
       "      <td>...</td>\n",
       "      <td>...</td>\n",
       "    </tr>\n",
       "    <tr>\n",
       "      <th>188875</th>\n",
       "      <td>W00010693</td>\n",
       "      <td>78</td>\n",
       "    </tr>\n",
       "    <tr>\n",
       "      <th>188876</th>\n",
       "      <td>W00010694</td>\n",
       "      <td>404</td>\n",
       "    </tr>\n",
       "    <tr>\n",
       "      <th>188877</th>\n",
       "      <td>W00010695</td>\n",
       "      <td>189</td>\n",
       "    </tr>\n",
       "    <tr>\n",
       "      <th>188878</th>\n",
       "      <td>W00010696</td>\n",
       "      <td>237</td>\n",
       "    </tr>\n",
       "    <tr>\n",
       "      <th>188879</th>\n",
       "      <td>W00010697</td>\n",
       "      <td>272</td>\n",
       "    </tr>\n",
       "  </tbody>\n",
       "</table>\n",
       "<p>188880 rows × 2 columns</p>\n",
       "</div>"
      ],
      "text/plain": [
       "       Output Areas Code  counts\n",
       "0              E00000001     176\n",
       "1              E00000003     256\n",
       "2              E00000005     112\n",
       "3              E00000007     145\n",
       "4              E00000010     173\n",
       "...                  ...     ...\n",
       "188875         W00010693      78\n",
       "188876         W00010694     404\n",
       "188877         W00010695     189\n",
       "188878         W00010696     237\n",
       "188879         W00010697     272\n",
       "\n",
       "[188880 rows x 2 columns]"
      ]
     },
     "execution_count": 100,
     "metadata": {},
     "output_type": "execute_result"
    }
   ],
   "source": [
    "mean_household_size.reset_index()"
   ]
  },
  {
   "cell_type": "code",
   "execution_count": 104,
   "id": "97717dc4-3d84-4777-97c5-8a121ed825e9",
   "metadata": {},
   "outputs": [
    {
     "data": {
      "text/html": [
       "<div>\n",
       "<style scoped>\n",
       "    .dataframe tbody tr th:only-of-type {\n",
       "        vertical-align: middle;\n",
       "    }\n",
       "\n",
       "    .dataframe tbody tr th {\n",
       "        vertical-align: top;\n",
       "    }\n",
       "\n",
       "    .dataframe thead th {\n",
       "        text-align: right;\n",
       "    }\n",
       "</style>\n",
       "<table border=\"1\" class=\"dataframe\">\n",
       "  <thead>\n",
       "    <tr style=\"text-align: right;\">\n",
       "      <th></th>\n",
       "      <th>Output Areas Code</th>\n",
       "      <th>counts</th>\n",
       "      <th>Observation</th>\n",
       "      <th>avg_household_size</th>\n",
       "    </tr>\n",
       "  </thead>\n",
       "  <tbody>\n",
       "    <tr>\n",
       "      <th>0</th>\n",
       "      <td>E00000001</td>\n",
       "      <td>176</td>\n",
       "      <td>94</td>\n",
       "      <td>1.872340</td>\n",
       "    </tr>\n",
       "    <tr>\n",
       "      <th>1</th>\n",
       "      <td>E00000003</td>\n",
       "      <td>256</td>\n",
       "      <td>109</td>\n",
       "      <td>2.348624</td>\n",
       "    </tr>\n",
       "    <tr>\n",
       "      <th>2</th>\n",
       "      <td>E00000005</td>\n",
       "      <td>112</td>\n",
       "      <td>63</td>\n",
       "      <td>1.777778</td>\n",
       "    </tr>\n",
       "    <tr>\n",
       "      <th>3</th>\n",
       "      <td>E00000007</td>\n",
       "      <td>145</td>\n",
       "      <td>87</td>\n",
       "      <td>1.666667</td>\n",
       "    </tr>\n",
       "    <tr>\n",
       "      <th>4</th>\n",
       "      <td>E00000010</td>\n",
       "      <td>173</td>\n",
       "      <td>125</td>\n",
       "      <td>1.384000</td>\n",
       "    </tr>\n",
       "  </tbody>\n",
       "</table>\n",
       "</div>"
      ],
      "text/plain": [
       "  Output Areas Code  counts  Observation  avg_household_size\n",
       "0         E00000001     176           94            1.872340\n",
       "1         E00000003     256          109            2.348624\n",
       "2         E00000005     112           63            1.777778\n",
       "3         E00000007     145           87            1.666667\n",
       "4         E00000010     173          125            1.384000"
      ]
     },
     "execution_count": 104,
     "metadata": {},
     "output_type": "execute_result"
    }
   ],
   "source": [
    "mean_household_size = mean_household_size.reset_index().merge(mean_household_size_totals.reset_index(), on='Output Areas Code')\n",
    "mean_household_size['avg_household_size'] = mean_household_size['counts'] /  mean_household_size['Observation']\n",
    "mean_household_size.head()"
   ]
  },
  {
   "cell_type": "code",
   "execution_count": 103,
   "id": "424149bb-d2cd-4795-93a5-e1c05e3eecb7",
   "metadata": {},
   "outputs": [],
   "source": []
  },
  {
   "cell_type": "markdown",
   "id": "ab152de4-82e8-43bc-8bb1-73bb60a87249",
   "metadata": {},
   "source": [
    "**gender**"
   ]
  },
  {
   "cell_type": "code",
   "execution_count": 84,
   "id": "41acca26-75ce-47a1-a52c-6e8ed5785f46",
   "metadata": {},
   "outputs": [
    {
     "data": {
      "text/html": [
       "<div>\n",
       "<style scoped>\n",
       "    .dataframe tbody tr th:only-of-type {\n",
       "        vertical-align: middle;\n",
       "    }\n",
       "\n",
       "    .dataframe tbody tr th {\n",
       "        vertical-align: top;\n",
       "    }\n",
       "\n",
       "    .dataframe thead th {\n",
       "        text-align: right;\n",
       "    }\n",
       "</style>\n",
       "<table border=\"1\" class=\"dataframe\">\n",
       "  <thead>\n",
       "    <tr style=\"text-align: right;\">\n",
       "      <th></th>\n",
       "      <th>Output Areas Code</th>\n",
       "      <th>Output Areas</th>\n",
       "      <th>Sex (2 categories) Code</th>\n",
       "      <th>Sex (2 categories)</th>\n",
       "      <th>Observation</th>\n",
       "    </tr>\n",
       "  </thead>\n",
       "  <tbody>\n",
       "    <tr>\n",
       "      <th>0</th>\n",
       "      <td>E00000001</td>\n",
       "      <td>E00000001</td>\n",
       "      <td>1</td>\n",
       "      <td>Female</td>\n",
       "      <td>75</td>\n",
       "    </tr>\n",
       "    <tr>\n",
       "      <th>1</th>\n",
       "      <td>E00000001</td>\n",
       "      <td>E00000001</td>\n",
       "      <td>2</td>\n",
       "      <td>Male</td>\n",
       "      <td>101</td>\n",
       "    </tr>\n",
       "    <tr>\n",
       "      <th>2</th>\n",
       "      <td>E00000003</td>\n",
       "      <td>E00000003</td>\n",
       "      <td>1</td>\n",
       "      <td>Female</td>\n",
       "      <td>123</td>\n",
       "    </tr>\n",
       "    <tr>\n",
       "      <th>3</th>\n",
       "      <td>E00000003</td>\n",
       "      <td>E00000003</td>\n",
       "      <td>2</td>\n",
       "      <td>Male</td>\n",
       "      <td>135</td>\n",
       "    </tr>\n",
       "    <tr>\n",
       "      <th>4</th>\n",
       "      <td>E00000005</td>\n",
       "      <td>E00000005</td>\n",
       "      <td>1</td>\n",
       "      <td>Female</td>\n",
       "      <td>52</td>\n",
       "    </tr>\n",
       "  </tbody>\n",
       "</table>\n",
       "</div>"
      ],
      "text/plain": [
       "  Output Areas Code Output Areas  Sex (2 categories) Code Sex (2 categories)  \\\n",
       "0         E00000001    E00000001                        1             Female   \n",
       "1         E00000001    E00000001                        2               Male   \n",
       "2         E00000003    E00000003                        1             Female   \n",
       "3         E00000003    E00000003                        2               Male   \n",
       "4         E00000005    E00000005                        1             Female   \n",
       "\n",
       "   Observation  \n",
       "0           75  \n",
       "1          101  \n",
       "2          123  \n",
       "3          135  \n",
       "4           52  "
      ]
     },
     "execution_count": 84,
     "metadata": {},
     "output_type": "execute_result"
    }
   ],
   "source": [
    "gender = pd.read_csv('data/uk-census-2021-sex-oa.csv')\n",
    "gender.head()"
   ]
  },
  {
   "cell_type": "code",
   "execution_count": 119,
   "id": "cadf3ac4-0ded-488b-8124-ed6e0fba9169",
   "metadata": {},
   "outputs": [
    {
     "data": {
      "text/html": [
       "<div>\n",
       "<style scoped>\n",
       "    .dataframe tbody tr th:only-of-type {\n",
       "        vertical-align: middle;\n",
       "    }\n",
       "\n",
       "    .dataframe tbody tr th {\n",
       "        vertical-align: top;\n",
       "    }\n",
       "\n",
       "    .dataframe thead th {\n",
       "        text-align: right;\n",
       "    }\n",
       "</style>\n",
       "<table border=\"1\" class=\"dataframe\">\n",
       "  <thead>\n",
       "    <tr style=\"text-align: right;\">\n",
       "      <th></th>\n",
       "      <th>Output Areas</th>\n",
       "      <th>Observation_x</th>\n",
       "      <th>Output Areas Code</th>\n",
       "      <th>Observation_y</th>\n",
       "      <th>pct</th>\n",
       "    </tr>\n",
       "  </thead>\n",
       "  <tbody>\n",
       "    <tr>\n",
       "      <th>0</th>\n",
       "      <td>E00000001</td>\n",
       "      <td>75</td>\n",
       "      <td>E00000001</td>\n",
       "      <td>176</td>\n",
       "      <td>0.426136</td>\n",
       "    </tr>\n",
       "    <tr>\n",
       "      <th>1</th>\n",
       "      <td>E00000003</td>\n",
       "      <td>123</td>\n",
       "      <td>E00000003</td>\n",
       "      <td>258</td>\n",
       "      <td>0.476744</td>\n",
       "    </tr>\n",
       "    <tr>\n",
       "      <th>2</th>\n",
       "      <td>E00000005</td>\n",
       "      <td>52</td>\n",
       "      <td>E00000005</td>\n",
       "      <td>112</td>\n",
       "      <td>0.464286</td>\n",
       "    </tr>\n",
       "    <tr>\n",
       "      <th>3</th>\n",
       "      <td>E00000007</td>\n",
       "      <td>67</td>\n",
       "      <td>E00000007</td>\n",
       "      <td>144</td>\n",
       "      <td>0.465278</td>\n",
       "    </tr>\n",
       "    <tr>\n",
       "      <th>4</th>\n",
       "      <td>E00000010</td>\n",
       "      <td>71</td>\n",
       "      <td>E00000010</td>\n",
       "      <td>178</td>\n",
       "      <td>0.398876</td>\n",
       "    </tr>\n",
       "  </tbody>\n",
       "</table>\n",
       "</div>"
      ],
      "text/plain": [
       "  Output Areas  Observation_x Output Areas Code  Observation_y       pct\n",
       "0    E00000001             75         E00000001            176  0.426136\n",
       "1    E00000003            123         E00000003            258  0.476744\n",
       "2    E00000005             52         E00000005            112  0.464286\n",
       "3    E00000007             67         E00000007            144  0.465278\n",
       "4    E00000010             71         E00000010            178  0.398876"
      ]
     },
     "execution_count": 119,
     "metadata": {},
     "output_type": "execute_result"
    }
   ],
   "source": [
    "females = gender[gender['Sex (2 categories)'] == 'Female']\n",
    "gender_total = gender.groupby(['Output Areas Code'])['Observation'].sum().reset_index()\n",
    "percent_female = females[['Output Areas', 'Observation']].merge(gender_total, left_on='Output Areas', right_on='Output Areas Code')\n",
    "percent_female['pct'] = percent_female['Observation_x'] / percent_female['Observation_y']\n",
    "percent_female.head()"
   ]
  },
  {
   "cell_type": "markdown",
   "id": "cb3ceb74-c459-46ac-a82f-ee0dc42ea6ab",
   "metadata": {},
   "source": [
    "**education**"
   ]
  },
  {
   "cell_type": "code",
   "execution_count": 105,
   "id": "9aaed757-0e36-4f60-b01f-32a780b59f6e",
   "metadata": {},
   "outputs": [
    {
     "data": {
      "text/html": [
       "<div>\n",
       "<style scoped>\n",
       "    .dataframe tbody tr th:only-of-type {\n",
       "        vertical-align: middle;\n",
       "    }\n",
       "\n",
       "    .dataframe tbody tr th {\n",
       "        vertical-align: top;\n",
       "    }\n",
       "\n",
       "    .dataframe thead th {\n",
       "        text-align: right;\n",
       "    }\n",
       "</style>\n",
       "<table border=\"1\" class=\"dataframe\">\n",
       "  <thead>\n",
       "    <tr style=\"text-align: right;\">\n",
       "      <th></th>\n",
       "      <th>Output Areas Code</th>\n",
       "      <th>Output Areas</th>\n",
       "      <th>Highest level of qualification (8 categories) Code</th>\n",
       "      <th>Highest level of qualification (8 categories)</th>\n",
       "      <th>Observation</th>\n",
       "    </tr>\n",
       "  </thead>\n",
       "  <tbody>\n",
       "    <tr>\n",
       "      <th>0</th>\n",
       "      <td>E00000001</td>\n",
       "      <td>E00000001</td>\n",
       "      <td>-8</td>\n",
       "      <td>Does not apply</td>\n",
       "      <td>15</td>\n",
       "    </tr>\n",
       "    <tr>\n",
       "      <th>1</th>\n",
       "      <td>E00000001</td>\n",
       "      <td>E00000001</td>\n",
       "      <td>0</td>\n",
       "      <td>No qualifications</td>\n",
       "      <td>4</td>\n",
       "    </tr>\n",
       "    <tr>\n",
       "      <th>2</th>\n",
       "      <td>E00000001</td>\n",
       "      <td>E00000001</td>\n",
       "      <td>1</td>\n",
       "      <td>Level 1 and entry level qualifications: 1 to 4...</td>\n",
       "      <td>7</td>\n",
       "    </tr>\n",
       "    <tr>\n",
       "      <th>3</th>\n",
       "      <td>E00000001</td>\n",
       "      <td>E00000001</td>\n",
       "      <td>2</td>\n",
       "      <td>Level 2 qualifications: 5 or more GCSEs (A* to...</td>\n",
       "      <td>10</td>\n",
       "    </tr>\n",
       "    <tr>\n",
       "      <th>4</th>\n",
       "      <td>E00000001</td>\n",
       "      <td>E00000001</td>\n",
       "      <td>3</td>\n",
       "      <td>Apprenticeship</td>\n",
       "      <td>1</td>\n",
       "    </tr>\n",
       "  </tbody>\n",
       "</table>\n",
       "</div>"
      ],
      "text/plain": [
       "  Output Areas Code Output Areas  \\\n",
       "0         E00000001    E00000001   \n",
       "1         E00000001    E00000001   \n",
       "2         E00000001    E00000001   \n",
       "3         E00000001    E00000001   \n",
       "4         E00000001    E00000001   \n",
       "\n",
       "   Highest level of qualification (8 categories) Code  \\\n",
       "0                                                 -8    \n",
       "1                                                  0    \n",
       "2                                                  1    \n",
       "3                                                  2    \n",
       "4                                                  3    \n",
       "\n",
       "       Highest level of qualification (8 categories)  Observation  \n",
       "0                                     Does not apply           15  \n",
       "1                                  No qualifications            4  \n",
       "2  Level 1 and entry level qualifications: 1 to 4...            7  \n",
       "3  Level 2 qualifications: 5 or more GCSEs (A* to...           10  \n",
       "4                                     Apprenticeship            1  "
      ]
     },
     "execution_count": 105,
     "metadata": {},
     "output_type": "execute_result"
    }
   ],
   "source": [
    "education = pd.read_csv('data/uk-census-2021-education-oa.csv')\n",
    "education.head()"
   ]
  },
  {
   "cell_type": "code",
   "execution_count": 107,
   "id": "c81e0ae9-fab3-4da8-88f0-59caab622145",
   "metadata": {},
   "outputs": [
    {
     "data": {
      "text/html": [
       "<div>\n",
       "<style scoped>\n",
       "    .dataframe tbody tr th:only-of-type {\n",
       "        vertical-align: middle;\n",
       "    }\n",
       "\n",
       "    .dataframe tbody tr th {\n",
       "        vertical-align: top;\n",
       "    }\n",
       "\n",
       "    .dataframe thead th {\n",
       "        text-align: right;\n",
       "    }\n",
       "</style>\n",
       "<table border=\"1\" class=\"dataframe\">\n",
       "  <thead>\n",
       "    <tr style=\"text-align: right;\">\n",
       "      <th></th>\n",
       "      <th>Highest level of qualification (8 categories) Code</th>\n",
       "      <th>Highest level of qualification (8 categories)</th>\n",
       "    </tr>\n",
       "  </thead>\n",
       "  <tbody>\n",
       "    <tr>\n",
       "      <th>0</th>\n",
       "      <td>-8</td>\n",
       "      <td>Does not apply</td>\n",
       "    </tr>\n",
       "    <tr>\n",
       "      <th>1</th>\n",
       "      <td>0</td>\n",
       "      <td>No qualifications</td>\n",
       "    </tr>\n",
       "    <tr>\n",
       "      <th>2</th>\n",
       "      <td>1</td>\n",
       "      <td>Level 1 and entry level qualifications: 1 to 4...</td>\n",
       "    </tr>\n",
       "    <tr>\n",
       "      <th>3</th>\n",
       "      <td>2</td>\n",
       "      <td>Level 2 qualifications: 5 or more GCSEs (A* to...</td>\n",
       "    </tr>\n",
       "    <tr>\n",
       "      <th>4</th>\n",
       "      <td>3</td>\n",
       "      <td>Apprenticeship</td>\n",
       "    </tr>\n",
       "    <tr>\n",
       "      <th>5</th>\n",
       "      <td>4</td>\n",
       "      <td>Level 3 qualifications: 2 or more A levels or ...</td>\n",
       "    </tr>\n",
       "    <tr>\n",
       "      <th>6</th>\n",
       "      <td>5</td>\n",
       "      <td>Level 4 qualifications and above: degree (BA, ...</td>\n",
       "    </tr>\n",
       "    <tr>\n",
       "      <th>7</th>\n",
       "      <td>6</td>\n",
       "      <td>Other: vocational or work-related qualificatio...</td>\n",
       "    </tr>\n",
       "  </tbody>\n",
       "</table>\n",
       "</div>"
      ],
      "text/plain": [
       "   Highest level of qualification (8 categories) Code  \\\n",
       "0                                                 -8    \n",
       "1                                                  0    \n",
       "2                                                  1    \n",
       "3                                                  2    \n",
       "4                                                  3    \n",
       "5                                                  4    \n",
       "6                                                  5    \n",
       "7                                                  6    \n",
       "\n",
       "       Highest level of qualification (8 categories)  \n",
       "0                                     Does not apply  \n",
       "1                                  No qualifications  \n",
       "2  Level 1 and entry level qualifications: 1 to 4...  \n",
       "3  Level 2 qualifications: 5 or more GCSEs (A* to...  \n",
       "4                                     Apprenticeship  \n",
       "5  Level 3 qualifications: 2 or more A levels or ...  \n",
       "6  Level 4 qualifications and above: degree (BA, ...  \n",
       "7  Other: vocational or work-related qualificatio...  "
      ]
     },
     "execution_count": 107,
     "metadata": {},
     "output_type": "execute_result"
    }
   ],
   "source": [
    "education[['Highest level of qualification (8 categories) Code','Highest level of qualification (8 categories)'\t]].drop_duplicates()"
   ]
  },
  {
   "cell_type": "markdown",
   "id": "73f0ef6b-8cd7-41f0-b7b1-3b7bc45c2448",
   "metadata": {},
   "source": [
    "here make the simplifying assumption that we ignore the 'does not apply category', and the categories code go up in more advanced education"
   ]
  },
  {
   "cell_type": "code",
   "execution_count": 115,
   "id": "9eb4e3f9-dcd6-4509-9a2d-f511e5505eb8",
   "metadata": {},
   "outputs": [
    {
     "name": "stderr",
     "output_type": "stream",
     "text": [
      "/tmp/ipykernel_8836/3694262026.py:2: SettingWithCopyWarning: \n",
      "A value is trying to be set on a copy of a slice from a DataFrame.\n",
      "Try using .loc[row_indexer,col_indexer] = value instead\n",
      "\n",
      "See the caveats in the documentation: https://pandas.pydata.org/pandas-docs/stable/user_guide/indexing.html#returning-a-view-versus-a-copy\n",
      "  mean_education_level['counts'] = mean_education_level['Highest level of qualification (8 categories) Code'] * mean_education_level['Observation']\n"
     ]
    },
    {
     "data": {
      "text/html": [
       "<div>\n",
       "<style scoped>\n",
       "    .dataframe tbody tr th:only-of-type {\n",
       "        vertical-align: middle;\n",
       "    }\n",
       "\n",
       "    .dataframe tbody tr th {\n",
       "        vertical-align: top;\n",
       "    }\n",
       "\n",
       "    .dataframe thead th {\n",
       "        text-align: right;\n",
       "    }\n",
       "</style>\n",
       "<table border=\"1\" class=\"dataframe\">\n",
       "  <thead>\n",
       "    <tr style=\"text-align: right;\">\n",
       "      <th></th>\n",
       "      <th>Output Areas Code</th>\n",
       "      <th>counts</th>\n",
       "      <th>Observation</th>\n",
       "      <th>avg_education_level</th>\n",
       "    </tr>\n",
       "  </thead>\n",
       "  <tbody>\n",
       "    <tr>\n",
       "      <th>0</th>\n",
       "      <td>E00000001</td>\n",
       "      <td>594</td>\n",
       "      <td>175</td>\n",
       "      <td>3.394286</td>\n",
       "    </tr>\n",
       "    <tr>\n",
       "      <th>1</th>\n",
       "      <td>E00000003</td>\n",
       "      <td>734</td>\n",
       "      <td>257</td>\n",
       "      <td>2.856031</td>\n",
       "    </tr>\n",
       "    <tr>\n",
       "      <th>2</th>\n",
       "      <td>E00000005</td>\n",
       "      <td>429</td>\n",
       "      <td>113</td>\n",
       "      <td>3.796460</td>\n",
       "    </tr>\n",
       "    <tr>\n",
       "      <th>3</th>\n",
       "      <td>E00000007</td>\n",
       "      <td>600</td>\n",
       "      <td>144</td>\n",
       "      <td>4.166667</td>\n",
       "    </tr>\n",
       "    <tr>\n",
       "      <th>4</th>\n",
       "      <td>E00000010</td>\n",
       "      <td>600</td>\n",
       "      <td>179</td>\n",
       "      <td>3.351955</td>\n",
       "    </tr>\n",
       "  </tbody>\n",
       "</table>\n",
       "</div>"
      ],
      "text/plain": [
       "  Output Areas Code  counts  Observation  avg_education_level\n",
       "0         E00000001     594          175             3.394286\n",
       "1         E00000003     734          257             2.856031\n",
       "2         E00000005     429          113             3.796460\n",
       "3         E00000007     600          144             4.166667\n",
       "4         E00000010     600          179             3.351955"
      ]
     },
     "execution_count": 115,
     "metadata": {},
     "output_type": "execute_result"
    }
   ],
   "source": [
    "mean_education_level = education[['Output Areas Code', 'Highest level of qualification (8 categories) Code','Observation']]\n",
    "mean_education_level['counts'] = mean_education_level['Highest level of qualification (8 categories) Code'] * mean_education_level['Observation']\n",
    "mean_education_level = mean_education_level.groupby('Output Areas Code')['counts'].sum()\n",
    "mean_education_level_totals = education[['Output Areas Code', 'Highest level of qualification (8 categories) Code','Observation']].groupby('Output Areas Code')['Observation'].sum()\n",
    "mean_education_level = mean_education_level.reset_index().merge(mean_education_level_totals.reset_index(), on='Output Areas Code')\n",
    "mean_education_level['avg_education_level'] = mean_education_level['counts'] /  mean_education_level['Observation']\n",
    "mean_education_level.head()"
   ]
  },
  {
   "cell_type": "code",
   "execution_count": 124,
   "id": "3be5b701-2fc5-481d-920b-189e974c6f23",
   "metadata": {},
   "outputs": [
    {
     "data": {
      "text/html": [
       "<div>\n",
       "<style scoped>\n",
       "    .dataframe tbody tr th:only-of-type {\n",
       "        vertical-align: middle;\n",
       "    }\n",
       "\n",
       "    .dataframe tbody tr th {\n",
       "        vertical-align: top;\n",
       "    }\n",
       "\n",
       "    .dataframe thead th {\n",
       "        text-align: right;\n",
       "    }\n",
       "</style>\n",
       "<table border=\"1\" class=\"dataframe\">\n",
       "  <thead>\n",
       "    <tr style=\"text-align: right;\">\n",
       "      <th></th>\n",
       "      <th>cellid</th>\n",
       "      <th>OA21CD</th>\n",
       "      <th>geometry</th>\n",
       "      <th>avg_education_level</th>\n",
       "      <th>pct</th>\n",
       "      <th>avg_household_size</th>\n",
       "      <th>pop_density</th>\n",
       "      <th>popoulation</th>\n",
       "    </tr>\n",
       "  </thead>\n",
       "  <tbody>\n",
       "    <tr>\n",
       "      <th>0</th>\n",
       "      <td>0</td>\n",
       "      <td>E00155442</td>\n",
       "      <td>POLYGON ((503000.000 155200.000, 503000.000 15...</td>\n",
       "      <td>1.328671</td>\n",
       "      <td>0.522807</td>\n",
       "      <td>2.567568</td>\n",
       "      <td>915.5</td>\n",
       "      <td>9.155</td>\n",
       "    </tr>\n",
       "    <tr>\n",
       "      <th>1</th>\n",
       "      <td>1</td>\n",
       "      <td>E00155442</td>\n",
       "      <td>POLYGON ((503000.000 155300.000, 503000.000 15...</td>\n",
       "      <td>1.328671</td>\n",
       "      <td>0.522807</td>\n",
       "      <td>2.567568</td>\n",
       "      <td>915.5</td>\n",
       "      <td>9.155</td>\n",
       "    </tr>\n",
       "    <tr>\n",
       "      <th>2</th>\n",
       "      <td>2</td>\n",
       "      <td>E00155442</td>\n",
       "      <td>POLYGON ((503000.000 155400.000, 503000.000 15...</td>\n",
       "      <td>1.328671</td>\n",
       "      <td>0.522807</td>\n",
       "      <td>2.567568</td>\n",
       "      <td>915.5</td>\n",
       "      <td>9.155</td>\n",
       "    </tr>\n",
       "    <tr>\n",
       "      <th>3</th>\n",
       "      <td>467</td>\n",
       "      <td>E00155442</td>\n",
       "      <td>POLYGON ((503100.000 155200.000, 503100.000 15...</td>\n",
       "      <td>1.328671</td>\n",
       "      <td>0.522807</td>\n",
       "      <td>2.567568</td>\n",
       "      <td>915.5</td>\n",
       "      <td>9.155</td>\n",
       "    </tr>\n",
       "    <tr>\n",
       "      <th>4</th>\n",
       "      <td>468</td>\n",
       "      <td>E00155442</td>\n",
       "      <td>POLYGON ((503100.000 155300.000, 503100.000 15...</td>\n",
       "      <td>1.328671</td>\n",
       "      <td>0.522807</td>\n",
       "      <td>2.567568</td>\n",
       "      <td>915.5</td>\n",
       "      <td>9.155</td>\n",
       "    </tr>\n",
       "  </tbody>\n",
       "</table>\n",
       "</div>"
      ],
      "text/plain": [
       "   cellid     OA21CD                                           geometry  \\\n",
       "0       0  E00155442  POLYGON ((503000.000 155200.000, 503000.000 15...   \n",
       "1       1  E00155442  POLYGON ((503000.000 155300.000, 503000.000 15...   \n",
       "2       2  E00155442  POLYGON ((503000.000 155400.000, 503000.000 15...   \n",
       "3     467  E00155442  POLYGON ((503100.000 155200.000, 503100.000 15...   \n",
       "4     468  E00155442  POLYGON ((503100.000 155300.000, 503100.000 15...   \n",
       "\n",
       "   avg_education_level       pct  avg_household_size  pop_density  popoulation  \n",
       "0             1.328671  0.522807            2.567568        915.5        9.155  \n",
       "1             1.328671  0.522807            2.567568        915.5        9.155  \n",
       "2             1.328671  0.522807            2.567568        915.5        9.155  \n",
       "3             1.328671  0.522807            2.567568        915.5        9.155  \n",
       "4             1.328671  0.522807            2.567568        915.5        9.155  "
      ]
     },
     "execution_count": 124,
     "metadata": {},
     "output_type": "execute_result"
    }
   ],
   "source": [
    "# add education level info\n",
    "ldn_demographics_grid_processed = ldn_demographics_grid.merge(mean_education_level[[\n",
    "    'Output Areas Code', 'avg_education_level']], left_on='OA21CD', right_on='Output Areas Code').drop(columns='Output Areas Code')\n",
    "# add % female\n",
    "ldn_demographics_grid_processed = ldn_demographics_grid_processed.merge(percent_female[[\n",
    "    'Output Areas Code', 'pct']], left_on='OA21CD', right_on='Output Areas Code').drop(columns='Output Areas Code')\n",
    "# add mean household size\n",
    "ldn_demographics_grid_processed = ldn_demographics_grid_processed.merge(mean_household_size[[\n",
    "    'Output Areas Code', 'avg_household_size']], left_on='OA21CD', right_on='Output Areas Code').drop(columns='Output Areas Code')\n",
    "\n",
    "\n",
    "ldn_demographics_grid_processed = ldn_demographics_grid_processed.merge(population_oa[[\n",
    "    'Output Areas Code', 'Observation']], left_on='OA21CD', right_on='Output Areas Code').drop(columns='Output Areas Code').rename(\n",
    "    columns={'Observation': 'pop_density'})\n",
    "ldn_demographics_grid_processed['popoulation'] = ldn_demographics_grid_processed['pop_density'] * (100 * 100)/(1000 * 1000)\n",
    "ldn_demographics_grid_processed.head()"
   ]
  },
  {
   "cell_type": "code",
   "execution_count": 126,
   "id": "6bef787a-285b-4acc-a570-1416a651668e",
   "metadata": {},
   "outputs": [
    {
     "name": "stderr",
     "output_type": "stream",
     "text": [
      "/tmp/ipykernel_8836/324827064.py:1: UserWarning: Column names longer than 10 characters will be truncated when saved to ESRI Shapefile.\n",
      "  ldn_demographics_grid_processed.to_file('data/ldn_demographics_grid_processed.shp')\n"
     ]
    }
   ],
   "source": [
    "ldn_demographics_grid_processed.to_file('data/ldn_demographics_grid_processed.shp')"
   ]
  },
  {
   "cell_type": "code",
   "execution_count": null,
   "id": "45eb5f5b-e454-4ca1-83da-abf26bce69fb",
   "metadata": {},
   "outputs": [],
   "source": []
  }
 ],
 "metadata": {
  "kernelspec": {
   "display_name": "Python [conda env:geo]",
   "language": "python",
   "name": "conda-env-geo-py"
  },
  "language_info": {
   "codemirror_mode": {
    "name": "ipython",
    "version": 3
   },
   "file_extension": ".py",
   "mimetype": "text/x-python",
   "name": "python",
   "nbconvert_exporter": "python",
   "pygments_lexer": "ipython3",
   "version": "3.10.8"
  },
  "widgets": {
   "application/vnd.jupyter.widget-state+json": {
    "state": {},
    "version_major": 2,
    "version_minor": 0
   }
  }
 },
 "nbformat": 4,
 "nbformat_minor": 5
}
